{
 "cells": [
  {
   "cell_type": "code",
   "execution_count": 1,
   "id": "4306448e",
   "metadata": {},
   "outputs": [],
   "source": [
    "%matplotlib inline\n",
    "import numpy as np\n",
    "import pandas as pd\n",
    "from datetime import timedelta\n",
    "import datetime as dt\n",
    "import matplotlib.pyplot as plt\n",
    "import seaborn as sns\n",
    "from sklearn.model_selection import train_test_split\n",
    "import warnings\n",
    "warnings.filterwarnings('ignore')"
   ]
  },
  {
   "cell_type": "code",
   "execution_count": 2,
   "id": "c3f077b8",
   "metadata": {},
   "outputs": [],
   "source": [
    "data=pd.read_csv('nyc_taxi_trip_duration.csv')"
   ]
  },
  {
   "cell_type": "code",
   "execution_count": 3,
   "id": "7aa48219",
   "metadata": {},
   "outputs": [
    {
     "data": {
      "text/plain": [
       "(729322, 11)"
      ]
     },
     "execution_count": 3,
     "metadata": {},
     "output_type": "execute_result"
    }
   ],
   "source": [
    "data.shape"
   ]
  },
  {
   "cell_type": "code",
   "execution_count": 4,
   "id": "c56e0f17",
   "metadata": {},
   "outputs": [
    {
     "data": {
      "text/plain": [
       "id                    0\n",
       "vendor_id             0\n",
       "pickup_datetime       0\n",
       "dropoff_datetime      0\n",
       "passenger_count       0\n",
       "pickup_longitude      0\n",
       "pickup_latitude       0\n",
       "dropoff_longitude     0\n",
       "dropoff_latitude      0\n",
       "store_and_fwd_flag    0\n",
       "trip_duration         0\n",
       "dtype: int64"
      ]
     },
     "execution_count": 4,
     "metadata": {},
     "output_type": "execute_result"
    }
   ],
   "source": [
    "data.isnull().sum()"
   ]
  },
  {
   "cell_type": "code",
   "execution_count": 5,
   "id": "83c1110a",
   "metadata": {},
   "outputs": [
    {
     "name": "stdout",
     "output_type": "stream",
     "text": [
      "<class 'pandas.core.frame.DataFrame'>\n",
      "RangeIndex: 729322 entries, 0 to 729321\n",
      "Data columns (total 11 columns):\n",
      " #   Column              Non-Null Count   Dtype  \n",
      "---  ------              --------------   -----  \n",
      " 0   id                  729322 non-null  object \n",
      " 1   vendor_id           729322 non-null  int64  \n",
      " 2   pickup_datetime     729322 non-null  object \n",
      " 3   dropoff_datetime    729322 non-null  object \n",
      " 4   passenger_count     729322 non-null  int64  \n",
      " 5   pickup_longitude    729322 non-null  float64\n",
      " 6   pickup_latitude     729322 non-null  float64\n",
      " 7   dropoff_longitude   729322 non-null  float64\n",
      " 8   dropoff_latitude    729322 non-null  float64\n",
      " 9   store_and_fwd_flag  729322 non-null  object \n",
      " 10  trip_duration       729322 non-null  int64  \n",
      "dtypes: float64(4), int64(3), object(4)\n",
      "memory usage: 61.2+ MB\n"
     ]
    }
   ],
   "source": [
    "data.info()"
   ]
  },
  {
   "cell_type": "code",
   "execution_count": 6,
   "id": "6a56945d",
   "metadata": {},
   "outputs": [
    {
     "data": {
      "text/plain": [
       "0    2016-02-29 16:40:21\n",
       "1    2016-03-11 23:35:37\n",
       "2    2016-02-21 17:59:33\n",
       "3    2016-01-05 09:44:31\n",
       "4    2016-02-17 06:42:23\n",
       "Name: pickup_datetime, dtype: object"
      ]
     },
     "execution_count": 6,
     "metadata": {},
     "output_type": "execute_result"
    }
   ],
   "source": [
    "data['pickup_datetime'].head()"
   ]
  },
  {
   "cell_type": "code",
   "execution_count": 7,
   "id": "2f002e3f",
   "metadata": {},
   "outputs": [
    {
     "data": {
      "text/plain": [
       "id                    729322\n",
       "vendor_id                  2\n",
       "pickup_datetime       709359\n",
       "dropoff_datetime      709308\n",
       "passenger_count            9\n",
       "pickup_longitude       19729\n",
       "pickup_latitude        39776\n",
       "dropoff_longitude      27892\n",
       "dropoff_latitude       53579\n",
       "store_and_fwd_flag         2\n",
       "trip_duration           6296\n",
       "dtype: int64"
      ]
     },
     "execution_count": 7,
     "metadata": {},
     "output_type": "execute_result"
    }
   ],
   "source": [
    "data.nunique()"
   ]
  },
  {
   "cell_type": "code",
   "execution_count": 8,
   "id": "aebed3b3",
   "metadata": {},
   "outputs": [
    {
     "data": {
      "text/html": [
       "<div>\n",
       "<style scoped>\n",
       "    .dataframe tbody tr th:only-of-type {\n",
       "        vertical-align: middle;\n",
       "    }\n",
       "\n",
       "    .dataframe tbody tr th {\n",
       "        vertical-align: top;\n",
       "    }\n",
       "\n",
       "    .dataframe thead th {\n",
       "        text-align: right;\n",
       "    }\n",
       "</style>\n",
       "<table border=\"1\" class=\"dataframe\">\n",
       "  <thead>\n",
       "    <tr style=\"text-align: right;\">\n",
       "      <th></th>\n",
       "      <th>vendor_id</th>\n",
       "      <th>passenger_count</th>\n",
       "      <th>pickup_longitude</th>\n",
       "      <th>pickup_latitude</th>\n",
       "      <th>dropoff_longitude</th>\n",
       "      <th>dropoff_latitude</th>\n",
       "      <th>trip_duration</th>\n",
       "    </tr>\n",
       "  </thead>\n",
       "  <tbody>\n",
       "    <tr>\n",
       "      <th>count</th>\n",
       "      <td>729322.000000</td>\n",
       "      <td>729322.000000</td>\n",
       "      <td>729322.000000</td>\n",
       "      <td>729322.000000</td>\n",
       "      <td>729322.000000</td>\n",
       "      <td>729322.000000</td>\n",
       "      <td>7.293220e+05</td>\n",
       "    </tr>\n",
       "    <tr>\n",
       "      <th>mean</th>\n",
       "      <td>1.535403</td>\n",
       "      <td>1.662055</td>\n",
       "      <td>-73.973513</td>\n",
       "      <td>40.750919</td>\n",
       "      <td>-73.973422</td>\n",
       "      <td>40.751775</td>\n",
       "      <td>9.522291e+02</td>\n",
       "    </tr>\n",
       "    <tr>\n",
       "      <th>std</th>\n",
       "      <td>0.498745</td>\n",
       "      <td>1.312446</td>\n",
       "      <td>0.069754</td>\n",
       "      <td>0.033594</td>\n",
       "      <td>0.069588</td>\n",
       "      <td>0.036037</td>\n",
       "      <td>3.864626e+03</td>\n",
       "    </tr>\n",
       "    <tr>\n",
       "      <th>min</th>\n",
       "      <td>1.000000</td>\n",
       "      <td>0.000000</td>\n",
       "      <td>-121.933342</td>\n",
       "      <td>34.712234</td>\n",
       "      <td>-121.933304</td>\n",
       "      <td>32.181141</td>\n",
       "      <td>1.000000e+00</td>\n",
       "    </tr>\n",
       "    <tr>\n",
       "      <th>25%</th>\n",
       "      <td>1.000000</td>\n",
       "      <td>1.000000</td>\n",
       "      <td>-73.991859</td>\n",
       "      <td>40.737335</td>\n",
       "      <td>-73.991318</td>\n",
       "      <td>40.735931</td>\n",
       "      <td>3.970000e+02</td>\n",
       "    </tr>\n",
       "    <tr>\n",
       "      <th>50%</th>\n",
       "      <td>2.000000</td>\n",
       "      <td>1.000000</td>\n",
       "      <td>-73.981758</td>\n",
       "      <td>40.754070</td>\n",
       "      <td>-73.979759</td>\n",
       "      <td>40.754509</td>\n",
       "      <td>6.630000e+02</td>\n",
       "    </tr>\n",
       "    <tr>\n",
       "      <th>75%</th>\n",
       "      <td>2.000000</td>\n",
       "      <td>2.000000</td>\n",
       "      <td>-73.967361</td>\n",
       "      <td>40.768314</td>\n",
       "      <td>-73.963036</td>\n",
       "      <td>40.769741</td>\n",
       "      <td>1.075000e+03</td>\n",
       "    </tr>\n",
       "    <tr>\n",
       "      <th>max</th>\n",
       "      <td>2.000000</td>\n",
       "      <td>9.000000</td>\n",
       "      <td>-65.897385</td>\n",
       "      <td>51.881084</td>\n",
       "      <td>-65.897385</td>\n",
       "      <td>43.921028</td>\n",
       "      <td>1.939736e+06</td>\n",
       "    </tr>\n",
       "  </tbody>\n",
       "</table>\n",
       "</div>"
      ],
      "text/plain": [
       "           vendor_id  passenger_count  pickup_longitude  pickup_latitude  \\\n",
       "count  729322.000000    729322.000000     729322.000000    729322.000000   \n",
       "mean        1.535403         1.662055        -73.973513        40.750919   \n",
       "std         0.498745         1.312446          0.069754         0.033594   \n",
       "min         1.000000         0.000000       -121.933342        34.712234   \n",
       "25%         1.000000         1.000000        -73.991859        40.737335   \n",
       "50%         2.000000         1.000000        -73.981758        40.754070   \n",
       "75%         2.000000         2.000000        -73.967361        40.768314   \n",
       "max         2.000000         9.000000        -65.897385        51.881084   \n",
       "\n",
       "       dropoff_longitude  dropoff_latitude  trip_duration  \n",
       "count      729322.000000     729322.000000   7.293220e+05  \n",
       "mean          -73.973422         40.751775   9.522291e+02  \n",
       "std             0.069588          0.036037   3.864626e+03  \n",
       "min          -121.933304         32.181141   1.000000e+00  \n",
       "25%           -73.991318         40.735931   3.970000e+02  \n",
       "50%           -73.979759         40.754509   6.630000e+02  \n",
       "75%           -73.963036         40.769741   1.075000e+03  \n",
       "max           -65.897385         43.921028   1.939736e+06  "
      ]
     },
     "execution_count": 8,
     "metadata": {},
     "output_type": "execute_result"
    }
   ],
   "source": [
    "data.describe()"
   ]
  },
  {
   "cell_type": "code",
   "execution_count": 9,
   "id": "949f21c7",
   "metadata": {},
   "outputs": [],
   "source": [
    "data['pickup_datetime']=pd.to_datetime(data['pickup_datetime'])\n",
    "data['dropoff_datetime']=pd.to_datetime(data['dropoff_datetime'])"
   ]
  },
  {
   "cell_type": "code",
   "execution_count": 10,
   "id": "c28a069d",
   "metadata": {},
   "outputs": [
    {
     "name": "stdout",
     "output_type": "stream",
     "text": [
      "<class 'pandas.core.frame.DataFrame'>\n",
      "RangeIndex: 729322 entries, 0 to 729321\n",
      "Data columns (total 11 columns):\n",
      " #   Column              Non-Null Count   Dtype         \n",
      "---  ------              --------------   -----         \n",
      " 0   id                  729322 non-null  object        \n",
      " 1   vendor_id           729322 non-null  int64         \n",
      " 2   pickup_datetime     729322 non-null  datetime64[ns]\n",
      " 3   dropoff_datetime    729322 non-null  datetime64[ns]\n",
      " 4   passenger_count     729322 non-null  int64         \n",
      " 5   pickup_longitude    729322 non-null  float64       \n",
      " 6   pickup_latitude     729322 non-null  float64       \n",
      " 7   dropoff_longitude   729322 non-null  float64       \n",
      " 8   dropoff_latitude    729322 non-null  float64       \n",
      " 9   store_and_fwd_flag  729322 non-null  object        \n",
      " 10  trip_duration       729322 non-null  int64         \n",
      "dtypes: datetime64[ns](2), float64(4), int64(3), object(2)\n",
      "memory usage: 61.2+ MB\n"
     ]
    }
   ],
   "source": [
    "data.info()"
   ]
  },
  {
   "cell_type": "code",
   "execution_count": 11,
   "id": "c97585ef",
   "metadata": {},
   "outputs": [],
   "source": [
    "data['pickup_day']=data['pickup_datetime'].dt.day_name()\n",
    "data['dropoff_day']=data['dropoff_datetime'].dt.day_name()"
   ]
  },
  {
   "cell_type": "code",
   "execution_count": 12,
   "id": "8dde7422",
   "metadata": {},
   "outputs": [],
   "source": [
    "data['pickup_day_no']=data['pickup_datetime'].dt.weekday\n",
    "data['dropoff_day_no']=data['dropoff_datetime'].dt.weekday"
   ]
  },
  {
   "cell_type": "code",
   "execution_count": 13,
   "id": "9aee222e",
   "metadata": {},
   "outputs": [],
   "source": [
    "data['pickup_hour']=data['pickup_datetime'].dt.hour\n",
    "data['dropoff_hour']=data['dropoff_datetime'].dt.hour\n",
    "data['pickup_month']=data['pickup_datetime'].dt.month\n",
    "data['dropoff_month']=data['dropoff_datetime'].dt.month"
   ]
  },
  {
   "cell_type": "code",
   "execution_count": 14,
   "id": "f86aa452",
   "metadata": {},
   "outputs": [],
   "source": [
    "def time_of_day(x):\n",
    "    if x in range(6,12):\n",
    "        return 'Morning'\n",
    "    elif x in range(12,16):\n",
    "        return 'Afternoon'\n",
    "    elif x in range(16,22):\n",
    "        return 'Evening'\n",
    "    else:\n",
    "        return 'Late night'"
   ]
  },
  {
   "cell_type": "code",
   "execution_count": 15,
   "id": "fefde58c",
   "metadata": {},
   "outputs": [],
   "source": [
    "data['pickup_timeofday']=data['pickup_hour'].apply(time_of_day)\n",
    "data['dropoff_timeofday']=data['dropoff_hour'].apply(time_of_day)"
   ]
  },
  {
   "cell_type": "code",
   "execution_count": 16,
   "id": "e62a0e7a",
   "metadata": {},
   "outputs": [
    {
     "data": {
      "text/html": [
       "<div>\n",
       "<style scoped>\n",
       "    .dataframe tbody tr th:only-of-type {\n",
       "        vertical-align: middle;\n",
       "    }\n",
       "\n",
       "    .dataframe tbody tr th {\n",
       "        vertical-align: top;\n",
       "    }\n",
       "\n",
       "    .dataframe thead th {\n",
       "        text-align: right;\n",
       "    }\n",
       "</style>\n",
       "<table border=\"1\" class=\"dataframe\">\n",
       "  <thead>\n",
       "    <tr style=\"text-align: right;\">\n",
       "      <th></th>\n",
       "      <th>id</th>\n",
       "      <th>vendor_id</th>\n",
       "      <th>pickup_datetime</th>\n",
       "      <th>dropoff_datetime</th>\n",
       "      <th>passenger_count</th>\n",
       "      <th>pickup_longitude</th>\n",
       "      <th>pickup_latitude</th>\n",
       "      <th>dropoff_longitude</th>\n",
       "      <th>dropoff_latitude</th>\n",
       "      <th>store_and_fwd_flag</th>\n",
       "      <th>...</th>\n",
       "      <th>pickup_day</th>\n",
       "      <th>dropoff_day</th>\n",
       "      <th>pickup_day_no</th>\n",
       "      <th>dropoff_day_no</th>\n",
       "      <th>pickup_hour</th>\n",
       "      <th>dropoff_hour</th>\n",
       "      <th>pickup_month</th>\n",
       "      <th>dropoff_month</th>\n",
       "      <th>pickup_timeofday</th>\n",
       "      <th>dropoff_timeofday</th>\n",
       "    </tr>\n",
       "  </thead>\n",
       "  <tbody>\n",
       "    <tr>\n",
       "      <th>0</th>\n",
       "      <td>id1080784</td>\n",
       "      <td>2</td>\n",
       "      <td>2016-02-29 16:40:21</td>\n",
       "      <td>2016-02-29 16:47:01</td>\n",
       "      <td>1</td>\n",
       "      <td>-73.953918</td>\n",
       "      <td>40.778873</td>\n",
       "      <td>-73.963875</td>\n",
       "      <td>40.771164</td>\n",
       "      <td>N</td>\n",
       "      <td>...</td>\n",
       "      <td>Monday</td>\n",
       "      <td>Monday</td>\n",
       "      <td>0</td>\n",
       "      <td>0</td>\n",
       "      <td>16</td>\n",
       "      <td>16</td>\n",
       "      <td>2</td>\n",
       "      <td>2</td>\n",
       "      <td>Evening</td>\n",
       "      <td>Evening</td>\n",
       "    </tr>\n",
       "    <tr>\n",
       "      <th>1</th>\n",
       "      <td>id0889885</td>\n",
       "      <td>1</td>\n",
       "      <td>2016-03-11 23:35:37</td>\n",
       "      <td>2016-03-11 23:53:57</td>\n",
       "      <td>2</td>\n",
       "      <td>-73.988312</td>\n",
       "      <td>40.731743</td>\n",
       "      <td>-73.994751</td>\n",
       "      <td>40.694931</td>\n",
       "      <td>N</td>\n",
       "      <td>...</td>\n",
       "      <td>Friday</td>\n",
       "      <td>Friday</td>\n",
       "      <td>4</td>\n",
       "      <td>4</td>\n",
       "      <td>23</td>\n",
       "      <td>23</td>\n",
       "      <td>3</td>\n",
       "      <td>3</td>\n",
       "      <td>Late night</td>\n",
       "      <td>Late night</td>\n",
       "    </tr>\n",
       "    <tr>\n",
       "      <th>2</th>\n",
       "      <td>id0857912</td>\n",
       "      <td>2</td>\n",
       "      <td>2016-02-21 17:59:33</td>\n",
       "      <td>2016-02-21 18:26:48</td>\n",
       "      <td>2</td>\n",
       "      <td>-73.997314</td>\n",
       "      <td>40.721458</td>\n",
       "      <td>-73.948029</td>\n",
       "      <td>40.774918</td>\n",
       "      <td>N</td>\n",
       "      <td>...</td>\n",
       "      <td>Sunday</td>\n",
       "      <td>Sunday</td>\n",
       "      <td>6</td>\n",
       "      <td>6</td>\n",
       "      <td>17</td>\n",
       "      <td>18</td>\n",
       "      <td>2</td>\n",
       "      <td>2</td>\n",
       "      <td>Evening</td>\n",
       "      <td>Evening</td>\n",
       "    </tr>\n",
       "    <tr>\n",
       "      <th>3</th>\n",
       "      <td>id3744273</td>\n",
       "      <td>2</td>\n",
       "      <td>2016-01-05 09:44:31</td>\n",
       "      <td>2016-01-05 10:03:32</td>\n",
       "      <td>6</td>\n",
       "      <td>-73.961670</td>\n",
       "      <td>40.759720</td>\n",
       "      <td>-73.956779</td>\n",
       "      <td>40.780628</td>\n",
       "      <td>N</td>\n",
       "      <td>...</td>\n",
       "      <td>Tuesday</td>\n",
       "      <td>Tuesday</td>\n",
       "      <td>1</td>\n",
       "      <td>1</td>\n",
       "      <td>9</td>\n",
       "      <td>10</td>\n",
       "      <td>1</td>\n",
       "      <td>1</td>\n",
       "      <td>Morning</td>\n",
       "      <td>Morning</td>\n",
       "    </tr>\n",
       "    <tr>\n",
       "      <th>4</th>\n",
       "      <td>id0232939</td>\n",
       "      <td>1</td>\n",
       "      <td>2016-02-17 06:42:23</td>\n",
       "      <td>2016-02-17 06:56:31</td>\n",
       "      <td>1</td>\n",
       "      <td>-74.017120</td>\n",
       "      <td>40.708469</td>\n",
       "      <td>-73.988182</td>\n",
       "      <td>40.740631</td>\n",
       "      <td>N</td>\n",
       "      <td>...</td>\n",
       "      <td>Wednesday</td>\n",
       "      <td>Wednesday</td>\n",
       "      <td>2</td>\n",
       "      <td>2</td>\n",
       "      <td>6</td>\n",
       "      <td>6</td>\n",
       "      <td>2</td>\n",
       "      <td>2</td>\n",
       "      <td>Morning</td>\n",
       "      <td>Morning</td>\n",
       "    </tr>\n",
       "  </tbody>\n",
       "</table>\n",
       "<p>5 rows × 21 columns</p>\n",
       "</div>"
      ],
      "text/plain": [
       "          id  vendor_id     pickup_datetime    dropoff_datetime  \\\n",
       "0  id1080784          2 2016-02-29 16:40:21 2016-02-29 16:47:01   \n",
       "1  id0889885          1 2016-03-11 23:35:37 2016-03-11 23:53:57   \n",
       "2  id0857912          2 2016-02-21 17:59:33 2016-02-21 18:26:48   \n",
       "3  id3744273          2 2016-01-05 09:44:31 2016-01-05 10:03:32   \n",
       "4  id0232939          1 2016-02-17 06:42:23 2016-02-17 06:56:31   \n",
       "\n",
       "   passenger_count  pickup_longitude  pickup_latitude  dropoff_longitude  \\\n",
       "0                1        -73.953918        40.778873         -73.963875   \n",
       "1                2        -73.988312        40.731743         -73.994751   \n",
       "2                2        -73.997314        40.721458         -73.948029   \n",
       "3                6        -73.961670        40.759720         -73.956779   \n",
       "4                1        -74.017120        40.708469         -73.988182   \n",
       "\n",
       "   dropoff_latitude store_and_fwd_flag  ...  pickup_day dropoff_day  \\\n",
       "0         40.771164                  N  ...      Monday      Monday   \n",
       "1         40.694931                  N  ...      Friday      Friday   \n",
       "2         40.774918                  N  ...      Sunday      Sunday   \n",
       "3         40.780628                  N  ...     Tuesday     Tuesday   \n",
       "4         40.740631                  N  ...   Wednesday   Wednesday   \n",
       "\n",
       "  pickup_day_no  dropoff_day_no  pickup_hour  dropoff_hour  pickup_month  \\\n",
       "0             0               0           16            16             2   \n",
       "1             4               4           23            23             3   \n",
       "2             6               6           17            18             2   \n",
       "3             1               1            9            10             1   \n",
       "4             2               2            6             6             2   \n",
       "\n",
       "   dropoff_month  pickup_timeofday dropoff_timeofday  \n",
       "0              2           Evening           Evening  \n",
       "1              3        Late night        Late night  \n",
       "2              2           Evening           Evening  \n",
       "3              1           Morning           Morning  \n",
       "4              2           Morning           Morning  \n",
       "\n",
       "[5 rows x 21 columns]"
      ]
     },
     "execution_count": 16,
     "metadata": {},
     "output_type": "execute_result"
    }
   ],
   "source": [
    "data.head()"
   ]
  },
  {
   "cell_type": "code",
   "execution_count": 17,
   "id": "80a2e63c",
   "metadata": {},
   "outputs": [
    {
     "data": {
      "text/plain": [
       "<AxesSubplot:xlabel='trip_duration'>"
      ]
     },
     "execution_count": 17,
     "metadata": {},
     "output_type": "execute_result"
    },
    {
     "data": {
      "image/png": "[encoded data removed]",
      "text/plain": [
       "<Figure size 432x288 with 1 Axes>"
      ]
     },
     "metadata": {
      "needs_background": "light"
     },
     "output_type": "display_data"
    }
   ],
   "source": [
    "sns.boxplot(data['trip_duration'])"
   ]
  },
  {
   "cell_type": "code",
   "execution_count": 18,
   "id": "695e2d71",
   "metadata": {},
   "outputs": [
    {
     "data": {
      "text/plain": [
       "21813     1939736\n",
       "259437      86391\n",
       "119185      86387\n",
       "177225      86378\n",
       "496391      86377\n",
       "           ...   \n",
       "672240          1\n",
       "102646          1\n",
       "533760          1\n",
       "512833          1\n",
       "622664          1\n",
       "Name: trip_duration, Length: 729322, dtype: int64"
      ]
     },
     "execution_count": 18,
     "metadata": {},
     "output_type": "execute_result"
    }
   ],
   "source": [
    "data['trip_duration'].sort_values(ascending=False)"
   ]
  },
  {
   "cell_type": "code",
   "execution_count": 19,
   "id": "60bb9d44",
   "metadata": {},
   "outputs": [],
   "source": [
    "data.drop(data[data['trip_duration'] == 1939736].index, inplace = True)"
   ]
  },
  {
   "cell_type": "code",
   "execution_count": 20,
   "id": "6c347449",
   "metadata": {},
   "outputs": [
    {
     "data": {
      "text/plain": [
       "(729321, 21)"
      ]
     },
     "execution_count": 20,
     "metadata": {},
     "output_type": "execute_result"
    }
   ],
   "source": [
    "data.shape"
   ]
  },
  {
   "cell_type": "code",
   "execution_count": 21,
   "id": "a17e7c72",
   "metadata": {},
   "outputs": [
    {
     "data": {
      "text/plain": [
       "<AxesSubplot:xlabel='trip_duration', ylabel='Count'>"
      ]
     },
     "execution_count": 21,
     "metadata": {},
     "output_type": "execute_result"
    },
    {
     "data": {
      "image/png": "[encoded data removed]",
      "text/plain": [
       "<Figure size 432x288 with 1 Axes>"
      ]
     },
     "metadata": {
      "needs_background": "light"
     },
     "output_type": "display_data"
    }
   ],
   "source": [
    "sns.histplot(data['trip_duration'],kde=False,bins=20)"
   ]
  },
  {
   "cell_type": "code",
   "execution_count": 22,
   "id": "e76e70eb",
   "metadata": {},
   "outputs": [
    {
     "data": {
      "text/plain": [
       "<AxesSubplot:xlabel='passenger_count', ylabel='count'>"
      ]
     },
     "execution_count": 22,
     "metadata": {},
     "output_type": "execute_result"
    },
    {
     "data": {
      "image/png": "[encoded data removed]",
      "text/plain": [
       "<Figure size 432x288 with 1 Axes>"
      ]
     },
     "metadata": {
      "needs_background": "light"
     },
     "output_type": "display_data"
    }
   ],
   "source": [
    "sns.countplot(x='passenger_count',data=data)\n"
   ]
  },
  {
   "cell_type": "code",
   "execution_count": 23,
   "id": "372ae64d",
   "metadata": {},
   "outputs": [],
   "source": [
    "from geopy.distance import great_circle"
   ]
  },
  {
   "cell_type": "code",
   "execution_count": 24,
   "id": "44ace860",
   "metadata": {},
   "outputs": [],
   "source": [
    "def cal_distance(pickup_lat,pickup_long,dropoff_lat,dropoff_long):\n",
    " \n",
    " start_coordinates=(pickup_lat,pickup_long)\n",
    " stop_coordinates=(dropoff_lat,dropoff_long)\n",
    " \n",
    " return great_circle(start_coordinates,stop_coordinates).km"
   ]
  },
  {
   "cell_type": "code",
   "execution_count": 25,
   "id": "67ae4774",
   "metadata": {},
   "outputs": [],
   "source": [
    "data['distance'] = data.apply(lambda x: cal_distance(x['pickup_latitude'],x['pickup_longitude'],x['dropoff_latitude'],x['dropoff_longitude'] ), axis=1)"
   ]
  },
  {
   "cell_type": "code",
   "execution_count": 26,
   "id": "219cc6d9",
   "metadata": {},
   "outputs": [
    {
     "data": {
      "text/html": [
       "<div>\n",
       "<style scoped>\n",
       "    .dataframe tbody tr th:only-of-type {\n",
       "        vertical-align: middle;\n",
       "    }\n",
       "\n",
       "    .dataframe tbody tr th {\n",
       "        vertical-align: top;\n",
       "    }\n",
       "\n",
       "    .dataframe thead th {\n",
       "        text-align: right;\n",
       "    }\n",
       "</style>\n",
       "<table border=\"1\" class=\"dataframe\">\n",
       "  <thead>\n",
       "    <tr style=\"text-align: right;\">\n",
       "      <th></th>\n",
       "      <th>id</th>\n",
       "      <th>vendor_id</th>\n",
       "      <th>pickup_datetime</th>\n",
       "      <th>dropoff_datetime</th>\n",
       "      <th>passenger_count</th>\n",
       "      <th>pickup_longitude</th>\n",
       "      <th>pickup_latitude</th>\n",
       "      <th>dropoff_longitude</th>\n",
       "      <th>dropoff_latitude</th>\n",
       "      <th>store_and_fwd_flag</th>\n",
       "      <th>...</th>\n",
       "      <th>dropoff_day</th>\n",
       "      <th>pickup_day_no</th>\n",
       "      <th>dropoff_day_no</th>\n",
       "      <th>pickup_hour</th>\n",
       "      <th>dropoff_hour</th>\n",
       "      <th>pickup_month</th>\n",
       "      <th>dropoff_month</th>\n",
       "      <th>pickup_timeofday</th>\n",
       "      <th>dropoff_timeofday</th>\n",
       "      <th>distance</th>\n",
       "    </tr>\n",
       "  </thead>\n",
       "  <tbody>\n",
       "    <tr>\n",
       "      <th>0</th>\n",
       "      <td>id1080784</td>\n",
       "      <td>2</td>\n",
       "      <td>2016-02-29 16:40:21</td>\n",
       "      <td>2016-02-29 16:47:01</td>\n",
       "      <td>1</td>\n",
       "      <td>-73.953918</td>\n",
       "      <td>40.778873</td>\n",
       "      <td>-73.963875</td>\n",
       "      <td>40.771164</td>\n",
       "      <td>N</td>\n",
       "      <td>...</td>\n",
       "      <td>Monday</td>\n",
       "      <td>0</td>\n",
       "      <td>0</td>\n",
       "      <td>16</td>\n",
       "      <td>16</td>\n",
       "      <td>2</td>\n",
       "      <td>2</td>\n",
       "      <td>Evening</td>\n",
       "      <td>Evening</td>\n",
       "      <td>1.199074</td>\n",
       "    </tr>\n",
       "    <tr>\n",
       "      <th>1</th>\n",
       "      <td>id0889885</td>\n",
       "      <td>1</td>\n",
       "      <td>2016-03-11 23:35:37</td>\n",
       "      <td>2016-03-11 23:53:57</td>\n",
       "      <td>2</td>\n",
       "      <td>-73.988312</td>\n",
       "      <td>40.731743</td>\n",
       "      <td>-73.994751</td>\n",
       "      <td>40.694931</td>\n",
       "      <td>N</td>\n",
       "      <td>...</td>\n",
       "      <td>Friday</td>\n",
       "      <td>4</td>\n",
       "      <td>4</td>\n",
       "      <td>23</td>\n",
       "      <td>23</td>\n",
       "      <td>3</td>\n",
       "      <td>3</td>\n",
       "      <td>Late night</td>\n",
       "      <td>Late night</td>\n",
       "      <td>4.129117</td>\n",
       "    </tr>\n",
       "    <tr>\n",
       "      <th>2</th>\n",
       "      <td>id0857912</td>\n",
       "      <td>2</td>\n",
       "      <td>2016-02-21 17:59:33</td>\n",
       "      <td>2016-02-21 18:26:48</td>\n",
       "      <td>2</td>\n",
       "      <td>-73.997314</td>\n",
       "      <td>40.721458</td>\n",
       "      <td>-73.948029</td>\n",
       "      <td>40.774918</td>\n",
       "      <td>N</td>\n",
       "      <td>...</td>\n",
       "      <td>Sunday</td>\n",
       "      <td>6</td>\n",
       "      <td>6</td>\n",
       "      <td>17</td>\n",
       "      <td>18</td>\n",
       "      <td>2</td>\n",
       "      <td>2</td>\n",
       "      <td>Evening</td>\n",
       "      <td>Evening</td>\n",
       "      <td>7.250763</td>\n",
       "    </tr>\n",
       "    <tr>\n",
       "      <th>3</th>\n",
       "      <td>id3744273</td>\n",
       "      <td>2</td>\n",
       "      <td>2016-01-05 09:44:31</td>\n",
       "      <td>2016-01-05 10:03:32</td>\n",
       "      <td>6</td>\n",
       "      <td>-73.961670</td>\n",
       "      <td>40.759720</td>\n",
       "      <td>-73.956779</td>\n",
       "      <td>40.780628</td>\n",
       "      <td>N</td>\n",
       "      <td>...</td>\n",
       "      <td>Tuesday</td>\n",
       "      <td>1</td>\n",
       "      <td>1</td>\n",
       "      <td>9</td>\n",
       "      <td>10</td>\n",
       "      <td>1</td>\n",
       "      <td>1</td>\n",
       "      <td>Morning</td>\n",
       "      <td>Morning</td>\n",
       "      <td>2.361101</td>\n",
       "    </tr>\n",
       "    <tr>\n",
       "      <th>4</th>\n",
       "      <td>id0232939</td>\n",
       "      <td>1</td>\n",
       "      <td>2016-02-17 06:42:23</td>\n",
       "      <td>2016-02-17 06:56:31</td>\n",
       "      <td>1</td>\n",
       "      <td>-74.017120</td>\n",
       "      <td>40.708469</td>\n",
       "      <td>-73.988182</td>\n",
       "      <td>40.740631</td>\n",
       "      <td>N</td>\n",
       "      <td>...</td>\n",
       "      <td>Wednesday</td>\n",
       "      <td>2</td>\n",
       "      <td>2</td>\n",
       "      <td>6</td>\n",
       "      <td>6</td>\n",
       "      <td>2</td>\n",
       "      <td>2</td>\n",
       "      <td>Morning</td>\n",
       "      <td>Morning</td>\n",
       "      <td>4.328540</td>\n",
       "    </tr>\n",
       "  </tbody>\n",
       "</table>\n",
       "<p>5 rows × 22 columns</p>\n",
       "</div>"
      ],
      "text/plain": [
       "          id  vendor_id     pickup_datetime    dropoff_datetime  \\\n",
       "0  id1080784          2 2016-02-29 16:40:21 2016-02-29 16:47:01   \n",
       "1  id0889885          1 2016-03-11 23:35:37 2016-03-11 23:53:57   \n",
       "2  id0857912          2 2016-02-21 17:59:33 2016-02-21 18:26:48   \n",
       "3  id3744273          2 2016-01-05 09:44:31 2016-01-05 10:03:32   \n",
       "4  id0232939          1 2016-02-17 06:42:23 2016-02-17 06:56:31   \n",
       "\n",
       "   passenger_count  pickup_longitude  pickup_latitude  dropoff_longitude  \\\n",
       "0                1        -73.953918        40.778873         -73.963875   \n",
       "1                2        -73.988312        40.731743         -73.994751   \n",
       "2                2        -73.997314        40.721458         -73.948029   \n",
       "3                6        -73.961670        40.759720         -73.956779   \n",
       "4                1        -74.017120        40.708469         -73.988182   \n",
       "\n",
       "   dropoff_latitude store_and_fwd_flag  ...  dropoff_day pickup_day_no  \\\n",
       "0         40.771164                  N  ...       Monday             0   \n",
       "1         40.694931                  N  ...       Friday             4   \n",
       "2         40.774918                  N  ...       Sunday             6   \n",
       "3         40.780628                  N  ...      Tuesday             1   \n",
       "4         40.740631                  N  ...    Wednesday             2   \n",
       "\n",
       "  dropoff_day_no  pickup_hour  dropoff_hour  pickup_month  dropoff_month  \\\n",
       "0              0           16            16             2              2   \n",
       "1              4           23            23             3              3   \n",
       "2              6           17            18             2              2   \n",
       "3              1            9            10             1              1   \n",
       "4              2            6             6             2              2   \n",
       "\n",
       "   pickup_timeofday  dropoff_timeofday  distance  \n",
       "0           Evening            Evening  1.199074  \n",
       "1        Late night         Late night  4.129117  \n",
       "2           Evening            Evening  7.250763  \n",
       "3           Morning            Morning  2.361101  \n",
       "4           Morning            Morning  4.328540  \n",
       "\n",
       "[5 rows x 22 columns]"
      ]
     },
     "execution_count": 26,
     "metadata": {},
     "output_type": "execute_result"
    }
   ],
   "source": [
    "data.head()"
   ]
  },
  {
   "cell_type": "code",
   "execution_count": 27,
   "id": "d4579aeb",
   "metadata": {},
   "outputs": [
    {
     "data": {
      "text/plain": [
       "0.000000    2901\n",
       "0.000424      20\n",
       "0.000424      19\n",
       "0.000424      16\n",
       "0.000424      11\n",
       "            ... \n",
       "0.358108       1\n",
       "0.809034       1\n",
       "0.963164       1\n",
       "0.586165       1\n",
       "2.246576       1\n",
       "Name: distance, Length: 726242, dtype: int64"
      ]
     },
     "execution_count": 27,
     "metadata": {},
     "output_type": "execute_result"
    }
   ],
   "source": [
    "data['distance'].value_counts()"
   ]
  },
  {
   "cell_type": "code",
   "execution_count": 28,
   "id": "3e432100",
   "metadata": {},
   "outputs": [
    {
     "data": {
      "image/png": "[encoded data removed]",
      "text/plain": [
       "<Figure size 1440x360 with 2 Axes>"
      ]
     },
     "metadata": {
      "needs_background": "light"
     },
     "output_type": "display_data"
    }
   ],
   "source": [
    "figure,(ax1,ax2)=plt.subplots(ncols=2,figsize=(20,5))\n",
    "ax1.set_title('Pickup Days')\n",
    "ax=sns.countplot(x=\"pickup_day\",data=data,ax=ax1)\n",
    "ax2.set_title('Dropoff Days')\n",
    "ax=sns.countplot(x=\"dropoff_day\",data=data,ax=ax2)"
   ]
  },
  {
   "cell_type": "code",
   "execution_count": 29,
   "id": "26626867",
   "metadata": {},
   "outputs": [
    {
     "data": {
      "image/png": "[encoded data removed]",
      "text/plain": [
       "<Figure size 1440x360 with 2 Axes>"
      ]
     },
     "metadata": {
      "needs_background": "light"
     },
     "output_type": "display_data"
    }
   ],
   "source": [
    "figure,(ax9,ax10)=plt.subplots(ncols=2,figsize=(20,5))\n",
    "ax9.set_title('Pickup Days')\n",
    "ax=sns.countplot(x=\"pickup_hour\",data=data,ax=ax9)\n",
    "ax10.set_title('Dropoff Days')\n",
    "ax=sns.countplot(x=\"dropoff_hour\",data=data,ax=ax10)"
   ]
  },
  {
   "cell_type": "code",
   "execution_count": 30,
   "id": "3e50c0df",
   "metadata": {},
   "outputs": [
    {
     "data": {
      "image/png": "[encoded data removed]",
      "text/plain": [
       "<Figure size 1440x360 with 2 Axes>"
      ]
     },
     "metadata": {
      "needs_background": "light"
     },
     "output_type": "display_data"
    }
   ],
   "source": [
    "figure,(ax3,ax4)=plt.subplots(ncols=2,figsize=(20,5))\n",
    "ax3.set_title('Pickup Time of Day')\n",
    "ax=sns.countplot(x=\"pickup_timeofday\",data=data,ax=ax3)\n",
    "ax4.set_title('Dropoff Time of Day')\n",
    "ax=sns.countplot(x=\"dropoff_timeofday\",data=data,ax=ax4)"
   ]
  },
  {
   "cell_type": "code",
   "execution_count": 31,
   "id": "ea349851",
   "metadata": {},
   "outputs": [
    {
     "data": {
      "image/png": "[encoded data removed]",
      "text/plain": [
       "<Figure size 1440x360 with 2 Axes>"
      ]
     },
     "metadata": {
      "needs_background": "light"
     },
     "output_type": "display_data"
    }
   ],
   "source": [
    "figure,(ax11,ax12)=plt.subplots(ncols=2,figsize=(20,5))\n",
    "ax11.set_title('Pickup Month')\n",
    "ax=sns.countplot(x=\"pickup_month\",data=data,ax=ax11)\n",
    "ax12.set_title('Dropoff Month')\n",
    "ax=sns.countplot(x=\"dropoff_month\",data=data,ax=ax12)"
   ]
  },
  {
   "cell_type": "code",
   "execution_count": 32,
   "id": "01032396",
   "metadata": {},
   "outputs": [
    {
     "data": {
      "text/plain": [
       "<AxesSubplot:xlabel='vendor_id', ylabel='trip_duration'>"
      ]
     },
     "execution_count": 32,
     "metadata": {},
     "output_type": "execute_result"
    },
    {
     "data": {
      "image/png": "[encoded data removed]",
      "text/plain": [
       "<Figure size 432x288 with 1 Axes>"
      ]
     },
     "metadata": {
      "needs_background": "light"
     },
     "output_type": "display_data"
    }
   ],
   "source": [
    "sns.barplot(y='trip_duration',x='vendor_id',data=data,estimator=np.mean)"
   ]
  },
  {
   "cell_type": "code",
   "execution_count": 33,
   "id": "dd56ed64",
   "metadata": {},
   "outputs": [
    {
     "data": {
      "text/plain": [
       "<seaborn.axisgrid.FacetGrid at 0x24187b338e0>"
      ]
     },
     "execution_count": 33,
     "metadata": {},
     "output_type": "execute_result"
    },
    {
     "data": {
      "image/png": "[encoded data removed]",
      "text/plain": [
       "<Figure size 360x360 with 1 Axes>"
      ]
     },
     "metadata": {
      "needs_background": "light"
     },
     "output_type": "display_data"
    }
   ],
   "source": [
    "sns.catplot(y='trip_duration',x='store_and_fwd_flag',data=data,kind=\"strip\")"
   ]
  },
  {
   "cell_type": "code",
   "execution_count": 34,
   "id": "3cab690c",
   "metadata": {},
   "outputs": [
    {
     "data": {
      "text/plain": [
       "<AxesSubplot:xlabel='pickup_hour', ylabel='trip_duration'>"
      ]
     },
     "execution_count": 34,
     "metadata": {},
     "output_type": "execute_result"
    },
    {
     "data": {
      "image/png": "[encoded data removed]",
      "text/plain": [
       "<Figure size 432x288 with 1 Axes>"
      ]
     },
     "metadata": {
      "needs_background": "light"
     },
     "output_type": "display_data"
    }
   ],
   "source": [
    "sns.lineplot(x='pickup_hour',y='trip_duration',data=data)"
   ]
  },
  {
   "cell_type": "code",
   "execution_count": 35,
   "id": "ce60bf22",
   "metadata": {},
   "outputs": [
    {
     "data": {
      "text/plain": [
       "<AxesSubplot:xlabel='pickup_timeofday', ylabel='trip_duration'>"
      ]
     },
     "execution_count": 35,
     "metadata": {},
     "output_type": "execute_result"
    },
    {
     "data": {
      "image/png": "[encoded data removed]",
      "text/plain": [
       "<Figure size 432x288 with 1 Axes>"
      ]
     },
     "metadata": {
      "needs_background": "light"
     },
     "output_type": "display_data"
    }
   ],
   "source": [
    "sns.lineplot(x='pickup_timeofday',y='trip_duration',data=data)"
   ]
  },
  {
   "cell_type": "code",
   "execution_count": 36,
   "id": "8ed3f732",
   "metadata": {},
   "outputs": [
    {
     "data": {
      "text/plain": [
       "<AxesSubplot:xlabel='pickup_day_no', ylabel='trip_duration'>"
      ]
     },
     "execution_count": 36,
     "metadata": {},
     "output_type": "execute_result"
    },
    {
     "data": {
      "image/png": "[encoded data removed]",
      "text/plain": [
       "<Figure size 432x288 with 1 Axes>"
      ]
     },
     "metadata": {
      "needs_background": "light"
     },
     "output_type": "display_data"
    }
   ],
   "source": [
    "sns.lineplot(x='pickup_day_no',y='trip_duration',data=data)"
   ]
  },
  {
   "cell_type": "code",
   "execution_count": 37,
   "id": "1f867ab1",
   "metadata": {},
   "outputs": [
    {
     "data": {
      "text/plain": [
       "<AxesSubplot:xlabel='vendor_id', ylabel='distance'>"
      ]
     },
     "execution_count": 37,
     "metadata": {},
     "output_type": "execute_result"
    },
    {
     "data": {
      "image/png": "[encoded data removed]",
      "text/plain": [
       "<Figure size 432x288 with 1 Axes>"
      ]
     },
     "metadata": {
      "needs_background": "light"
     },
     "output_type": "display_data"
    }
   ],
   "source": [
    "sns.barplot(y='distance',x='vendor_id',data=data,estimator=np.mean)"
   ]
  },
  {
   "cell_type": "code",
   "execution_count": 38,
   "id": "4fd16a35",
   "metadata": {},
   "outputs": [
    {
     "data": {
      "text/plain": [
       "<seaborn.axisgrid.FacetGrid at 0x24184054b20>"
      ]
     },
     "execution_count": 38,
     "metadata": {},
     "output_type": "execute_result"
    },
    {
     "data": {
      "image/png": "[encoded data removed]",
      "text/plain": [
       "<Figure size 360x360 with 1 Axes>"
      ]
     },
     "metadata": {
      "needs_background": "light"
     },
     "output_type": "display_data"
    }
   ],
   "source": [
    "sns.catplot(y='distance',x='passenger_count',data=data,kind=\"strip\")"
   ]
  },
  {
   "cell_type": "code",
   "execution_count": 39,
   "id": "363d72f3",
   "metadata": {},
   "outputs": [
    {
     "data": {
      "text/plain": [
       "<seaborn.axisgrid.FacetGrid at 0x24187aad400>"
      ]
     },
     "execution_count": 39,
     "metadata": {},
     "output_type": "execute_result"
    },
    {
     "data": {
      "image/png": "[encoded data removed]",
      "text/plain": [
       "<Figure size 360x360 with 1 Axes>"
      ]
     },
     "metadata": {
      "needs_background": "light"
     },
     "output_type": "display_data"
    }
   ],
   "source": [
    "sns.relplot(y=data.distance,x='trip_duration',data=data)"
   ]
  },
  {
   "cell_type": "code",
   "execution_count": 40,
   "id": "8ed373a1",
   "metadata": {},
   "outputs": [],
   "source": [
    "data.drop(['vendor_id'], axis=1,inplace=True)"
   ]
  },
  {
   "cell_type": "code",
   "execution_count": 41,
   "id": "250e8044",
   "metadata": {
    "scrolled": true
   },
   "outputs": [
    {
     "name": "stdout",
     "output_type": "stream",
     "text": [
      "<class 'pandas.core.frame.DataFrame'>\n",
      "Int64Index: 729321 entries, 0 to 729321\n",
      "Data columns (total 21 columns):\n",
      " #   Column              Non-Null Count   Dtype         \n",
      "---  ------              --------------   -----         \n",
      " 0   id                  729321 non-null  object        \n",
      " 1   pickup_datetime     729321 non-null  datetime64[ns]\n",
      " 2   dropoff_datetime    729321 non-null  datetime64[ns]\n",
      " 3   passenger_count     729321 non-null  int64         \n",
      " 4   pickup_longitude    729321 non-null  float64       \n",
      " 5   pickup_latitude     729321 non-null  float64       \n",
      " 6   dropoff_longitude   729321 non-null  float64       \n",
      " 7   dropoff_latitude    729321 non-null  float64       \n",
      " 8   store_and_fwd_flag  729321 non-null  object        \n",
      " 9   trip_duration       729321 non-null  int64         \n",
      " 10  pickup_day          729321 non-null  object        \n",
      " 11  dropoff_day         729321 non-null  object        \n",
      " 12  pickup_day_no       729321 non-null  int64         \n",
      " 13  dropoff_day_no      729321 non-null  int64         \n",
      " 14  pickup_hour         729321 non-null  int64         \n",
      " 15  dropoff_hour        729321 non-null  int64         \n",
      " 16  pickup_month        729321 non-null  int64         \n",
      " 17  dropoff_month       729321 non-null  int64         \n",
      " 18  pickup_timeofday    729321 non-null  object        \n",
      " 19  dropoff_timeofday   729321 non-null  object        \n",
      " 20  distance            729321 non-null  float64       \n",
      "dtypes: datetime64[ns](2), float64(5), int64(8), object(6)\n",
      "memory usage: 138.5+ MB\n"
     ]
    }
   ],
   "source": [
    "data.info()"
   ]
  },
  {
   "cell_type": "code",
   "execution_count": 42,
   "id": "27e354bc",
   "metadata": {},
   "outputs": [
    {
     "data": {
      "text/html": [
       "<div>\n",
       "<style scoped>\n",
       "    .dataframe tbody tr th:only-of-type {\n",
       "        vertical-align: middle;\n",
       "    }\n",
       "\n",
       "    .dataframe tbody tr th {\n",
       "        vertical-align: top;\n",
       "    }\n",
       "\n",
       "    .dataframe thead th {\n",
       "        text-align: right;\n",
       "    }\n",
       "</style>\n",
       "<table border=\"1\" class=\"dataframe\">\n",
       "  <thead>\n",
       "    <tr style=\"text-align: right;\">\n",
       "      <th></th>\n",
       "      <th>id</th>\n",
       "      <th>pickup_datetime</th>\n",
       "      <th>dropoff_datetime</th>\n",
       "      <th>passenger_count</th>\n",
       "      <th>pickup_longitude</th>\n",
       "      <th>pickup_latitude</th>\n",
       "      <th>dropoff_longitude</th>\n",
       "      <th>dropoff_latitude</th>\n",
       "      <th>store_and_fwd_flag</th>\n",
       "      <th>trip_duration</th>\n",
       "      <th>...</th>\n",
       "      <th>dropoff_day</th>\n",
       "      <th>pickup_day_no</th>\n",
       "      <th>dropoff_day_no</th>\n",
       "      <th>pickup_hour</th>\n",
       "      <th>dropoff_hour</th>\n",
       "      <th>pickup_month</th>\n",
       "      <th>dropoff_month</th>\n",
       "      <th>pickup_timeofday</th>\n",
       "      <th>dropoff_timeofday</th>\n",
       "      <th>distance</th>\n",
       "    </tr>\n",
       "  </thead>\n",
       "  <tbody>\n",
       "    <tr>\n",
       "      <th>0</th>\n",
       "      <td>id1080784</td>\n",
       "      <td>2016-02-29 16:40:21</td>\n",
       "      <td>2016-02-29 16:47:01</td>\n",
       "      <td>1</td>\n",
       "      <td>-73.953918</td>\n",
       "      <td>40.778873</td>\n",
       "      <td>-73.963875</td>\n",
       "      <td>40.771164</td>\n",
       "      <td>N</td>\n",
       "      <td>400</td>\n",
       "      <td>...</td>\n",
       "      <td>Monday</td>\n",
       "      <td>0</td>\n",
       "      <td>0</td>\n",
       "      <td>16</td>\n",
       "      <td>16</td>\n",
       "      <td>2</td>\n",
       "      <td>2</td>\n",
       "      <td>Evening</td>\n",
       "      <td>Evening</td>\n",
       "      <td>1.199074</td>\n",
       "    </tr>\n",
       "    <tr>\n",
       "      <th>1</th>\n",
       "      <td>id0889885</td>\n",
       "      <td>2016-03-11 23:35:37</td>\n",
       "      <td>2016-03-11 23:53:57</td>\n",
       "      <td>2</td>\n",
       "      <td>-73.988312</td>\n",
       "      <td>40.731743</td>\n",
       "      <td>-73.994751</td>\n",
       "      <td>40.694931</td>\n",
       "      <td>N</td>\n",
       "      <td>1100</td>\n",
       "      <td>...</td>\n",
       "      <td>Friday</td>\n",
       "      <td>4</td>\n",
       "      <td>4</td>\n",
       "      <td>23</td>\n",
       "      <td>23</td>\n",
       "      <td>3</td>\n",
       "      <td>3</td>\n",
       "      <td>Late night</td>\n",
       "      <td>Late night</td>\n",
       "      <td>4.129117</td>\n",
       "    </tr>\n",
       "    <tr>\n",
       "      <th>2</th>\n",
       "      <td>id0857912</td>\n",
       "      <td>2016-02-21 17:59:33</td>\n",
       "      <td>2016-02-21 18:26:48</td>\n",
       "      <td>2</td>\n",
       "      <td>-73.997314</td>\n",
       "      <td>40.721458</td>\n",
       "      <td>-73.948029</td>\n",
       "      <td>40.774918</td>\n",
       "      <td>N</td>\n",
       "      <td>1635</td>\n",
       "      <td>...</td>\n",
       "      <td>Sunday</td>\n",
       "      <td>6</td>\n",
       "      <td>6</td>\n",
       "      <td>17</td>\n",
       "      <td>18</td>\n",
       "      <td>2</td>\n",
       "      <td>2</td>\n",
       "      <td>Evening</td>\n",
       "      <td>Evening</td>\n",
       "      <td>7.250763</td>\n",
       "    </tr>\n",
       "    <tr>\n",
       "      <th>3</th>\n",
       "      <td>id3744273</td>\n",
       "      <td>2016-01-05 09:44:31</td>\n",
       "      <td>2016-01-05 10:03:32</td>\n",
       "      <td>6</td>\n",
       "      <td>-73.961670</td>\n",
       "      <td>40.759720</td>\n",
       "      <td>-73.956779</td>\n",
       "      <td>40.780628</td>\n",
       "      <td>N</td>\n",
       "      <td>1141</td>\n",
       "      <td>...</td>\n",
       "      <td>Tuesday</td>\n",
       "      <td>1</td>\n",
       "      <td>1</td>\n",
       "      <td>9</td>\n",
       "      <td>10</td>\n",
       "      <td>1</td>\n",
       "      <td>1</td>\n",
       "      <td>Morning</td>\n",
       "      <td>Morning</td>\n",
       "      <td>2.361101</td>\n",
       "    </tr>\n",
       "    <tr>\n",
       "      <th>4</th>\n",
       "      <td>id0232939</td>\n",
       "      <td>2016-02-17 06:42:23</td>\n",
       "      <td>2016-02-17 06:56:31</td>\n",
       "      <td>1</td>\n",
       "      <td>-74.017120</td>\n",
       "      <td>40.708469</td>\n",
       "      <td>-73.988182</td>\n",
       "      <td>40.740631</td>\n",
       "      <td>N</td>\n",
       "      <td>848</td>\n",
       "      <td>...</td>\n",
       "      <td>Wednesday</td>\n",
       "      <td>2</td>\n",
       "      <td>2</td>\n",
       "      <td>6</td>\n",
       "      <td>6</td>\n",
       "      <td>2</td>\n",
       "      <td>2</td>\n",
       "      <td>Morning</td>\n",
       "      <td>Morning</td>\n",
       "      <td>4.328540</td>\n",
       "    </tr>\n",
       "  </tbody>\n",
       "</table>\n",
       "<p>5 rows × 21 columns</p>\n",
       "</div>"
      ],
      "text/plain": [
       "          id     pickup_datetime    dropoff_datetime  passenger_count  \\\n",
       "0  id1080784 2016-02-29 16:40:21 2016-02-29 16:47:01                1   \n",
       "1  id0889885 2016-03-11 23:35:37 2016-03-11 23:53:57                2   \n",
       "2  id0857912 2016-02-21 17:59:33 2016-02-21 18:26:48                2   \n",
       "3  id3744273 2016-01-05 09:44:31 2016-01-05 10:03:32                6   \n",
       "4  id0232939 2016-02-17 06:42:23 2016-02-17 06:56:31                1   \n",
       "\n",
       "   pickup_longitude  pickup_latitude  dropoff_longitude  dropoff_latitude  \\\n",
       "0        -73.953918        40.778873         -73.963875         40.771164   \n",
       "1        -73.988312        40.731743         -73.994751         40.694931   \n",
       "2        -73.997314        40.721458         -73.948029         40.774918   \n",
       "3        -73.961670        40.759720         -73.956779         40.780628   \n",
       "4        -74.017120        40.708469         -73.988182         40.740631   \n",
       "\n",
       "  store_and_fwd_flag  trip_duration  ... dropoff_day pickup_day_no  \\\n",
       "0                  N            400  ...      Monday             0   \n",
       "1                  N           1100  ...      Friday             4   \n",
       "2                  N           1635  ...      Sunday             6   \n",
       "3                  N           1141  ...     Tuesday             1   \n",
       "4                  N            848  ...   Wednesday             2   \n",
       "\n",
       "   dropoff_day_no  pickup_hour  dropoff_hour  pickup_month  dropoff_month  \\\n",
       "0               0           16            16             2              2   \n",
       "1               4           23            23             3              3   \n",
       "2               6           17            18             2              2   \n",
       "3               1            9            10             1              1   \n",
       "4               2            6             6             2              2   \n",
       "\n",
       "   pickup_timeofday dropoff_timeofday  distance  \n",
       "0           Evening           Evening  1.199074  \n",
       "1        Late night        Late night  4.129117  \n",
       "2           Evening           Evening  7.250763  \n",
       "3           Morning           Morning  2.361101  \n",
       "4           Morning           Morning  4.328540  \n",
       "\n",
       "[5 rows x 21 columns]"
      ]
     },
     "execution_count": 42,
     "metadata": {},
     "output_type": "execute_result"
    }
   ],
   "source": [
    "data.head()"
   ]
  },
  {
   "cell_type": "code",
   "execution_count": 43,
   "id": "bf713e7e",
   "metadata": {},
   "outputs": [],
   "source": [
    "from sklearn.model_selection import train_test_split\n",
    "train_val_data , test_data = train_test_split(data,test_size=0.2,random_state=42)\n",
    "train_data , val_data = train_test_split(train_val_data,test_size=0.25,random_state=42)"
   ]
  },
  {
   "cell_type": "code",
   "execution_count": 44,
   "id": "ec636cee",
   "metadata": {},
   "outputs": [
    {
     "data": {
      "text/plain": [
       "(437592, 21)"
      ]
     },
     "execution_count": 44,
     "metadata": {},
     "output_type": "execute_result"
    }
   ],
   "source": [
    "train_data.shape"
   ]
  },
  {
   "cell_type": "code",
   "execution_count": 45,
   "id": "9240a158",
   "metadata": {},
   "outputs": [
    {
     "data": {
      "text/plain": [
       "(583456, 21)"
      ]
     },
     "execution_count": 45,
     "metadata": {},
     "output_type": "execute_result"
    }
   ],
   "source": [
    "train_val_data.shape"
   ]
  },
  {
   "cell_type": "code",
   "execution_count": 46,
   "id": "13909cf9",
   "metadata": {},
   "outputs": [
    {
     "data": {
      "text/plain": [
       "(145865, 21)"
      ]
     },
     "execution_count": 46,
     "metadata": {},
     "output_type": "execute_result"
    }
   ],
   "source": [
    "test_data.shape"
   ]
  },
  {
   "cell_type": "code",
   "execution_count": 47,
   "id": "e2dfe77b",
   "metadata": {},
   "outputs": [],
   "source": [
    "input_col = ['passenger_count','pickup_latitude','dropoff_latitude','dropoff_longitude','store_and_fwd_flag','pickup_day','dropoff_day','pickup_day_no','dropoff_day_no','pickup_hour','dropoff_hour','pickup_month','dropoff_month','pickup_timeofday','dropoff_timeofday','distance']\n",
    "target_col = 'trip_duration'"
   ]
  },
  {
   "cell_type": "code",
   "execution_count": 48,
   "id": "a5d8cd55",
   "metadata": {},
   "outputs": [],
   "source": [
    "test_data['simple_mean'] = train_data['trip_duration'].mean()"
   ]
  },
  {
   "cell_type": "code",
   "execution_count": null,
   "id": "3baefa88",
   "metadata": {},
   "outputs": [],
   "source": [
    "# simple mean regression  model"
   ]
  },
  {
   "cell_type": "code",
   "execution_count": 49,
   "id": "f061228e",
   "metadata": {},
   "outputs": [],
   "source": [
    "from sklearn.metrics import mean_squared_error as mse\n"
   ]
  },
  {
   "cell_type": "code",
   "execution_count": 50,
   "id": "16e0482b",
   "metadata": {},
   "outputs": [
    {
     "data": {
      "text/plain": [
       "10110900.977171497"
      ]
     },
     "execution_count": 50,
     "metadata": {},
     "output_type": "execute_result"
    }
   ],
   "source": [
    "simple_mean_error = mse(test_data['trip_duration'] , test_data['simple_mean'])\n",
    "simple_mean_error"
   ]
  },
  {
   "cell_type": "code",
   "execution_count": null,
   "id": "f472a9a4",
   "metadata": {},
   "outputs": [],
   "source": []
  },
  {
   "cell_type": "code",
   "execution_count": 51,
   "id": "f07baf92",
   "metadata": {},
   "outputs": [],
   "source": [
    "train_inputs = train_data[input_col].copy()\n",
    "train_targets = train_data[target_col].copy()\n",
    "val_inputs = val_data[input_col].copy()\n",
    "val_targets = val_data[target_col].copy()\n",
    "test_inputs = test_data[input_col].copy()\n",
    "test_targets = test_data[target_col].copy()\n",
    "numeric_col = train_inputs.select_dtypes(include=np.number).columns.tolist()\n",
    "cate_col = train_inputs.select_dtypes('object').columns.tolist()"
   ]
  },
  {
   "cell_type": "code",
   "execution_count": 52,
   "id": "e726988e",
   "metadata": {},
   "outputs": [
    {
     "data": {
      "text/html": [
       "<div>\n",
       "<style scoped>\n",
       "    .dataframe tbody tr th:only-of-type {\n",
       "        vertical-align: middle;\n",
       "    }\n",
       "\n",
       "    .dataframe tbody tr th {\n",
       "        vertical-align: top;\n",
       "    }\n",
       "\n",
       "    .dataframe thead th {\n",
       "        text-align: right;\n",
       "    }\n",
       "</style>\n",
       "<table border=\"1\" class=\"dataframe\">\n",
       "  <thead>\n",
       "    <tr style=\"text-align: right;\">\n",
       "      <th></th>\n",
       "      <th>passenger_count</th>\n",
       "      <th>pickup_latitude</th>\n",
       "      <th>dropoff_latitude</th>\n",
       "      <th>dropoff_longitude</th>\n",
       "      <th>pickup_day_no</th>\n",
       "      <th>dropoff_day_no</th>\n",
       "      <th>pickup_hour</th>\n",
       "      <th>dropoff_hour</th>\n",
       "      <th>pickup_month</th>\n",
       "      <th>dropoff_month</th>\n",
       "      <th>distance</th>\n",
       "    </tr>\n",
       "  </thead>\n",
       "  <tbody>\n",
       "    <tr>\n",
       "      <th>143620</th>\n",
       "      <td>1</td>\n",
       "      <td>40.738167</td>\n",
       "      <td>40.722034</td>\n",
       "      <td>-73.996368</td>\n",
       "      <td>6</td>\n",
       "      <td>6</td>\n",
       "      <td>1</td>\n",
       "      <td>2</td>\n",
       "      <td>4</td>\n",
       "      <td>4</td>\n",
       "      <td>2.050147</td>\n",
       "    </tr>\n",
       "    <tr>\n",
       "      <th>631000</th>\n",
       "      <td>1</td>\n",
       "      <td>40.753422</td>\n",
       "      <td>40.764721</td>\n",
       "      <td>-73.970688</td>\n",
       "      <td>5</td>\n",
       "      <td>5</td>\n",
       "      <td>7</td>\n",
       "      <td>7</td>\n",
       "      <td>6</td>\n",
       "      <td>6</td>\n",
       "      <td>1.427641</td>\n",
       "    </tr>\n",
       "    <tr>\n",
       "      <th>255733</th>\n",
       "      <td>1</td>\n",
       "      <td>40.733917</td>\n",
       "      <td>40.748215</td>\n",
       "      <td>-73.988129</td>\n",
       "      <td>3</td>\n",
       "      <td>3</td>\n",
       "      <td>23</td>\n",
       "      <td>23</td>\n",
       "      <td>6</td>\n",
       "      <td>6</td>\n",
       "      <td>2.000437</td>\n",
       "    </tr>\n",
       "    <tr>\n",
       "      <th>376506</th>\n",
       "      <td>1</td>\n",
       "      <td>40.756855</td>\n",
       "      <td>40.749161</td>\n",
       "      <td>-73.984840</td>\n",
       "      <td>2</td>\n",
       "      <td>2</td>\n",
       "      <td>15</td>\n",
       "      <td>16</td>\n",
       "      <td>6</td>\n",
       "      <td>6</td>\n",
       "      <td>1.227660</td>\n",
       "    </tr>\n",
       "    <tr>\n",
       "      <th>568474</th>\n",
       "      <td>1</td>\n",
       "      <td>40.790512</td>\n",
       "      <td>40.764568</td>\n",
       "      <td>-73.977791</td>\n",
       "      <td>0</td>\n",
       "      <td>0</td>\n",
       "      <td>11</td>\n",
       "      <td>11</td>\n",
       "      <td>2</td>\n",
       "      <td>2</td>\n",
       "      <td>2.897170</td>\n",
       "    </tr>\n",
       "    <tr>\n",
       "      <th>...</th>\n",
       "      <td>...</td>\n",
       "      <td>...</td>\n",
       "      <td>...</td>\n",
       "      <td>...</td>\n",
       "      <td>...</td>\n",
       "      <td>...</td>\n",
       "      <td>...</td>\n",
       "      <td>...</td>\n",
       "      <td>...</td>\n",
       "      <td>...</td>\n",
       "      <td>...</td>\n",
       "    </tr>\n",
       "    <tr>\n",
       "      <th>164176</th>\n",
       "      <td>6</td>\n",
       "      <td>40.767532</td>\n",
       "      <td>40.760551</td>\n",
       "      <td>-73.981956</td>\n",
       "      <td>1</td>\n",
       "      <td>1</td>\n",
       "      <td>8</td>\n",
       "      <td>8</td>\n",
       "      <td>5</td>\n",
       "      <td>5</td>\n",
       "      <td>0.850260</td>\n",
       "    </tr>\n",
       "    <tr>\n",
       "      <th>385170</th>\n",
       "      <td>1</td>\n",
       "      <td>40.717102</td>\n",
       "      <td>40.735249</td>\n",
       "      <td>-73.955025</td>\n",
       "      <td>2</td>\n",
       "      <td>2</td>\n",
       "      <td>18</td>\n",
       "      <td>19</td>\n",
       "      <td>6</td>\n",
       "      <td>6</td>\n",
       "      <td>2.021615</td>\n",
       "    </tr>\n",
       "    <tr>\n",
       "      <th>670284</th>\n",
       "      <td>1</td>\n",
       "      <td>40.744347</td>\n",
       "      <td>40.762470</td>\n",
       "      <td>-73.974251</td>\n",
       "      <td>5</td>\n",
       "      <td>5</td>\n",
       "      <td>9</td>\n",
       "      <td>9</td>\n",
       "      <td>1</td>\n",
       "      <td>1</td>\n",
       "      <td>2.055272</td>\n",
       "    </tr>\n",
       "    <tr>\n",
       "      <th>457836</th>\n",
       "      <td>2</td>\n",
       "      <td>40.771446</td>\n",
       "      <td>40.770176</td>\n",
       "      <td>-73.964325</td>\n",
       "      <td>5</td>\n",
       "      <td>5</td>\n",
       "      <td>17</td>\n",
       "      <td>17</td>\n",
       "      <td>3</td>\n",
       "      <td>3</td>\n",
       "      <td>1.529215</td>\n",
       "    </tr>\n",
       "    <tr>\n",
       "      <th>64817</th>\n",
       "      <td>2</td>\n",
       "      <td>40.752628</td>\n",
       "      <td>40.762432</td>\n",
       "      <td>-73.982346</td>\n",
       "      <td>1</td>\n",
       "      <td>1</td>\n",
       "      <td>11</td>\n",
       "      <td>12</td>\n",
       "      <td>2</td>\n",
       "      <td>2</td>\n",
       "      <td>1.349550</td>\n",
       "    </tr>\n",
       "  </tbody>\n",
       "</table>\n",
       "<p>437592 rows × 11 columns</p>\n",
       "</div>"
      ],
      "text/plain": [
       "        passenger_count  pickup_latitude  dropoff_latitude  dropoff_longitude  \\\n",
       "143620                1        40.738167         40.722034         -73.996368   \n",
       "631000                1        40.753422         40.764721         -73.970688   \n",
       "255733                1        40.733917         40.748215         -73.988129   \n",
       "376506                1        40.756855         40.749161         -73.984840   \n",
       "568474                1        40.790512         40.764568         -73.977791   \n",
       "...                 ...              ...               ...                ...   \n",
       "164176                6        40.767532         40.760551         -73.981956   \n",
       "385170                1        40.717102         40.735249         -73.955025   \n",
       "670284                1        40.744347         40.762470         -73.974251   \n",
       "457836                2        40.771446         40.770176         -73.964325   \n",
       "64817                 2        40.752628         40.762432         -73.982346   \n",
       "\n",
       "        pickup_day_no  dropoff_day_no  pickup_hour  dropoff_hour  \\\n",
       "143620              6               6            1             2   \n",
       "631000              5               5            7             7   \n",
       "255733              3               3           23            23   \n",
       "376506              2               2           15            16   \n",
       "568474              0               0           11            11   \n",
       "...               ...             ...          ...           ...   \n",
       "164176              1               1            8             8   \n",
       "385170              2               2           18            19   \n",
       "670284              5               5            9             9   \n",
       "457836              5               5           17            17   \n",
       "64817               1               1           11            12   \n",
       "\n",
       "        pickup_month  dropoff_month  distance  \n",
       "143620             4              4  2.050147  \n",
       "631000             6              6  1.427641  \n",
       "255733             6              6  2.000437  \n",
       "376506             6              6  1.227660  \n",
       "568474             2              2  2.897170  \n",
       "...              ...            ...       ...  \n",
       "164176             5              5  0.850260  \n",
       "385170             6              6  2.021615  \n",
       "670284             1              1  2.055272  \n",
       "457836             3              3  1.529215  \n",
       "64817              2              2  1.349550  \n",
       "\n",
       "[437592 rows x 11 columns]"
      ]
     },
     "execution_count": 52,
     "metadata": {},
     "output_type": "execute_result"
    }
   ],
   "source": [
    "train_inputs[numeric_col]"
   ]
  },
  {
   "cell_type": "code",
   "execution_count": 53,
   "id": "796d37df",
   "metadata": {},
   "outputs": [
    {
     "data": {
      "text/html": [
       "<div>\n",
       "<style scoped>\n",
       "    .dataframe tbody tr th:only-of-type {\n",
       "        vertical-align: middle;\n",
       "    }\n",
       "\n",
       "    .dataframe tbody tr th {\n",
       "        vertical-align: top;\n",
       "    }\n",
       "\n",
       "    .dataframe thead th {\n",
       "        text-align: right;\n",
       "    }\n",
       "</style>\n",
       "<table border=\"1\" class=\"dataframe\">\n",
       "  <thead>\n",
       "    <tr style=\"text-align: right;\">\n",
       "      <th></th>\n",
       "      <th>store_and_fwd_flag</th>\n",
       "      <th>pickup_day</th>\n",
       "      <th>dropoff_day</th>\n",
       "      <th>pickup_timeofday</th>\n",
       "      <th>dropoff_timeofday</th>\n",
       "    </tr>\n",
       "  </thead>\n",
       "  <tbody>\n",
       "    <tr>\n",
       "      <th>143620</th>\n",
       "      <td>N</td>\n",
       "      <td>Sunday</td>\n",
       "      <td>Sunday</td>\n",
       "      <td>Late night</td>\n",
       "      <td>Late night</td>\n",
       "    </tr>\n",
       "    <tr>\n",
       "      <th>631000</th>\n",
       "      <td>N</td>\n",
       "      <td>Saturday</td>\n",
       "      <td>Saturday</td>\n",
       "      <td>Morning</td>\n",
       "      <td>Morning</td>\n",
       "    </tr>\n",
       "    <tr>\n",
       "      <th>255733</th>\n",
       "      <td>N</td>\n",
       "      <td>Thursday</td>\n",
       "      <td>Thursday</td>\n",
       "      <td>Late night</td>\n",
       "      <td>Late night</td>\n",
       "    </tr>\n",
       "    <tr>\n",
       "      <th>376506</th>\n",
       "      <td>N</td>\n",
       "      <td>Wednesday</td>\n",
       "      <td>Wednesday</td>\n",
       "      <td>Afternoon</td>\n",
       "      <td>Evening</td>\n",
       "    </tr>\n",
       "    <tr>\n",
       "      <th>568474</th>\n",
       "      <td>N</td>\n",
       "      <td>Monday</td>\n",
       "      <td>Monday</td>\n",
       "      <td>Morning</td>\n",
       "      <td>Morning</td>\n",
       "    </tr>\n",
       "    <tr>\n",
       "      <th>...</th>\n",
       "      <td>...</td>\n",
       "      <td>...</td>\n",
       "      <td>...</td>\n",
       "      <td>...</td>\n",
       "      <td>...</td>\n",
       "    </tr>\n",
       "    <tr>\n",
       "      <th>164176</th>\n",
       "      <td>N</td>\n",
       "      <td>Tuesday</td>\n",
       "      <td>Tuesday</td>\n",
       "      <td>Morning</td>\n",
       "      <td>Morning</td>\n",
       "    </tr>\n",
       "    <tr>\n",
       "      <th>385170</th>\n",
       "      <td>N</td>\n",
       "      <td>Wednesday</td>\n",
       "      <td>Wednesday</td>\n",
       "      <td>Evening</td>\n",
       "      <td>Evening</td>\n",
       "    </tr>\n",
       "    <tr>\n",
       "      <th>670284</th>\n",
       "      <td>N</td>\n",
       "      <td>Saturday</td>\n",
       "      <td>Saturday</td>\n",
       "      <td>Morning</td>\n",
       "      <td>Morning</td>\n",
       "    </tr>\n",
       "    <tr>\n",
       "      <th>457836</th>\n",
       "      <td>N</td>\n",
       "      <td>Saturday</td>\n",
       "      <td>Saturday</td>\n",
       "      <td>Evening</td>\n",
       "      <td>Evening</td>\n",
       "    </tr>\n",
       "    <tr>\n",
       "      <th>64817</th>\n",
       "      <td>N</td>\n",
       "      <td>Tuesday</td>\n",
       "      <td>Tuesday</td>\n",
       "      <td>Morning</td>\n",
       "      <td>Afternoon</td>\n",
       "    </tr>\n",
       "  </tbody>\n",
       "</table>\n",
       "<p>437592 rows × 5 columns</p>\n",
       "</div>"
      ],
      "text/plain": [
       "       store_and_fwd_flag pickup_day dropoff_day pickup_timeofday  \\\n",
       "143620                  N     Sunday      Sunday       Late night   \n",
       "631000                  N   Saturday    Saturday          Morning   \n",
       "255733                  N   Thursday    Thursday       Late night   \n",
       "376506                  N  Wednesday   Wednesday        Afternoon   \n",
       "568474                  N     Monday      Monday          Morning   \n",
       "...                   ...        ...         ...              ...   \n",
       "164176                  N    Tuesday     Tuesday          Morning   \n",
       "385170                  N  Wednesday   Wednesday          Evening   \n",
       "670284                  N   Saturday    Saturday          Morning   \n",
       "457836                  N   Saturday    Saturday          Evening   \n",
       "64817                   N    Tuesday     Tuesday          Morning   \n",
       "\n",
       "       dropoff_timeofday  \n",
       "143620        Late night  \n",
       "631000           Morning  \n",
       "255733        Late night  \n",
       "376506           Evening  \n",
       "568474           Morning  \n",
       "...                  ...  \n",
       "164176           Morning  \n",
       "385170           Evening  \n",
       "670284           Morning  \n",
       "457836           Evening  \n",
       "64817          Afternoon  \n",
       "\n",
       "[437592 rows x 5 columns]"
      ]
     },
     "execution_count": 53,
     "metadata": {},
     "output_type": "execute_result"
    }
   ],
   "source": [
    "train_inputs[cate_col]"
   ]
  },
  {
   "cell_type": "code",
   "execution_count": 54,
   "id": "aa98ff91",
   "metadata": {},
   "outputs": [],
   "source": [
    "from sklearn.preprocessing import MinMaxScaler\n",
    "scaler = MinMaxScaler()\n",
    "scaler.fit(train_inputs[numeric_col])\n",
    "MinMaxScaler(copy=True, feature_range=(0, 1))\n",
    "train_inputs[numeric_col] = scaler.transform(train_inputs[numeric_col])\n",
    "val_inputs[numeric_col]  = scaler.transform(val_inputs[numeric_col])\n",
    "test_inputs[numeric_col] = scaler.transform(test_inputs[numeric_col])"
   ]
  },
  {
   "cell_type": "code",
   "execution_count": 55,
   "id": "20c03f46",
   "metadata": {},
   "outputs": [],
   "source": [
    "from sklearn.neighbors import KNeighborsRegressor as KNN"
   ]
  },
  {
   "cell_type": "code",
   "execution_count": 56,
   "id": "01e216d9",
   "metadata": {},
   "outputs": [],
   "source": [
    "from sklearn.metrics import mean_squared_error as mse"
   ]
  },
  {
   "cell_type": "code",
   "execution_count": 57,
   "id": "4e3438a0",
   "metadata": {},
   "outputs": [],
   "source": [
    "from sklearn.preprocessing import OneHotEncoder\n",
    "encoder  = OneHotEncoder(sparse=False,handle_unknown='ignore')\n"
   ]
  },
  {
   "cell_type": "code",
   "execution_count": 58,
   "id": "68f64bf6",
   "metadata": {},
   "outputs": [
    {
     "data": {
      "text/plain": [
       "OneHotEncoder(handle_unknown='ignore', sparse=False)"
      ]
     },
     "execution_count": 58,
     "metadata": {},
     "output_type": "execute_result"
    }
   ],
   "source": [
    "encoder.fit(train_inputs[cate_col])"
   ]
  },
  {
   "cell_type": "code",
   "execution_count": 69,
   "id": "e8f410be",
   "metadata": {},
   "outputs": [
    {
     "data": {
      "text/plain": [
       "['store_and_fwd_flag_N',\n",
       " 'store_and_fwd_flag_Y',\n",
       " 'pickup_day_Friday',\n",
       " 'pickup_day_Monday',\n",
       " 'pickup_day_Saturday',\n",
       " 'pickup_day_Sunday',\n",
       " 'pickup_day_Thursday',\n",
       " 'pickup_day_Tuesday',\n",
       " 'pickup_day_Wednesday',\n",
       " 'dropoff_day_Friday',\n",
       " 'dropoff_day_Monday',\n",
       " 'dropoff_day_Saturday',\n",
       " 'dropoff_day_Sunday',\n",
       " 'dropoff_day_Thursday',\n",
       " 'dropoff_day_Tuesday',\n",
       " 'dropoff_day_Wednesday',\n",
       " 'pickup_timeofday_Afternoon',\n",
       " 'pickup_timeofday_Evening',\n",
       " 'pickup_timeofday_Late night',\n",
       " 'pickup_timeofday_Morning',\n",
       " 'dropoff_timeofday_Afternoon',\n",
       " 'dropoff_timeofday_Evening',\n",
       " 'dropoff_timeofday_Late night',\n",
       " 'dropoff_timeofday_Morning']"
      ]
     },
     "execution_count": 69,
     "metadata": {},
     "output_type": "execute_result"
    }
   ],
   "source": [
    "enc_col = encoder.get_feature_names(cate_col).tolist()\n",
    "enc_col"
   ]
  },
  {
   "cell_type": "code",
   "execution_count": 60,
   "id": "cfe71524",
   "metadata": {},
   "outputs": [],
   "source": [
    "train_inputs[enc_col] = encoder.transform(train_inputs[cate_col])\n",
    "val_inputs[enc_col] = encoder.transform(val_inputs[cate_col])\n",
    "test_inputs[enc_col] = encoder.transform(test_inputs[cate_col])"
   ]
  },
  {
   "cell_type": "code",
   "execution_count": 70,
   "id": "c51a7201",
   "metadata": {},
   "outputs": [
    {
     "data": {
      "text/html": [
       "<div>\n",
       "<style scoped>\n",
       "    .dataframe tbody tr th:only-of-type {\n",
       "        vertical-align: middle;\n",
       "    }\n",
       "\n",
       "    .dataframe tbody tr th {\n",
       "        vertical-align: top;\n",
       "    }\n",
       "\n",
       "    .dataframe thead th {\n",
       "        text-align: right;\n",
       "    }\n",
       "</style>\n",
       "<table border=\"1\" class=\"dataframe\">\n",
       "  <thead>\n",
       "    <tr style=\"text-align: right;\">\n",
       "      <th></th>\n",
       "      <th>passenger_count</th>\n",
       "      <th>pickup_latitude</th>\n",
       "      <th>dropoff_latitude</th>\n",
       "      <th>dropoff_longitude</th>\n",
       "      <th>store_and_fwd_flag</th>\n",
       "      <th>pickup_day</th>\n",
       "      <th>dropoff_day</th>\n",
       "      <th>pickup_day_no</th>\n",
       "      <th>dropoff_day_no</th>\n",
       "      <th>pickup_hour</th>\n",
       "      <th>...</th>\n",
       "      <th>dropoff_day_Tuesday</th>\n",
       "      <th>dropoff_day_Wednesday</th>\n",
       "      <th>pickup_timeofday_Afternoon</th>\n",
       "      <th>pickup_timeofday_Evening</th>\n",
       "      <th>pickup_timeofday_Late night</th>\n",
       "      <th>pickup_timeofday_Morning</th>\n",
       "      <th>dropoff_timeofday_Afternoon</th>\n",
       "      <th>dropoff_timeofday_Evening</th>\n",
       "      <th>dropoff_timeofday_Late night</th>\n",
       "      <th>dropoff_timeofday_Morning</th>\n",
       "    </tr>\n",
       "  </thead>\n",
       "  <tbody>\n",
       "    <tr>\n",
       "      <th>143620</th>\n",
       "      <td>0.142857</td>\n",
       "      <td>0.655026</td>\n",
       "      <td>0.728085</td>\n",
       "      <td>0.932237</td>\n",
       "      <td>N</td>\n",
       "      <td>Sunday</td>\n",
       "      <td>Sunday</td>\n",
       "      <td>1.000000</td>\n",
       "      <td>1.000000</td>\n",
       "      <td>0.043478</td>\n",
       "      <td>...</td>\n",
       "      <td>0.0</td>\n",
       "      <td>0.0</td>\n",
       "      <td>0.0</td>\n",
       "      <td>0.0</td>\n",
       "      <td>1.0</td>\n",
       "      <td>0.0</td>\n",
       "      <td>0.0</td>\n",
       "      <td>0.0</td>\n",
       "      <td>1.0</td>\n",
       "      <td>0.0</td>\n",
       "    </tr>\n",
       "    <tr>\n",
       "      <th>631000</th>\n",
       "      <td>0.142857</td>\n",
       "      <td>0.656685</td>\n",
       "      <td>0.731724</td>\n",
       "      <td>0.932736</td>\n",
       "      <td>N</td>\n",
       "      <td>Saturday</td>\n",
       "      <td>Saturday</td>\n",
       "      <td>0.833333</td>\n",
       "      <td>0.833333</td>\n",
       "      <td>0.304348</td>\n",
       "      <td>...</td>\n",
       "      <td>0.0</td>\n",
       "      <td>0.0</td>\n",
       "      <td>0.0</td>\n",
       "      <td>0.0</td>\n",
       "      <td>0.0</td>\n",
       "      <td>1.0</td>\n",
       "      <td>0.0</td>\n",
       "      <td>0.0</td>\n",
       "      <td>0.0</td>\n",
       "      <td>1.0</td>\n",
       "    </tr>\n",
       "    <tr>\n",
       "      <th>255733</th>\n",
       "      <td>0.142857</td>\n",
       "      <td>0.654564</td>\n",
       "      <td>0.730317</td>\n",
       "      <td>0.932397</td>\n",
       "      <td>N</td>\n",
       "      <td>Thursday</td>\n",
       "      <td>Thursday</td>\n",
       "      <td>0.500000</td>\n",
       "      <td>0.500000</td>\n",
       "      <td>1.000000</td>\n",
       "      <td>...</td>\n",
       "      <td>0.0</td>\n",
       "      <td>0.0</td>\n",
       "      <td>0.0</td>\n",
       "      <td>0.0</td>\n",
       "      <td>1.0</td>\n",
       "      <td>0.0</td>\n",
       "      <td>0.0</td>\n",
       "      <td>0.0</td>\n",
       "      <td>1.0</td>\n",
       "      <td>0.0</td>\n",
       "    </tr>\n",
       "    <tr>\n",
       "      <th>376506</th>\n",
       "      <td>0.142857</td>\n",
       "      <td>0.657058</td>\n",
       "      <td>0.730398</td>\n",
       "      <td>0.932461</td>\n",
       "      <td>N</td>\n",
       "      <td>Wednesday</td>\n",
       "      <td>Wednesday</td>\n",
       "      <td>0.333333</td>\n",
       "      <td>0.333333</td>\n",
       "      <td>0.652174</td>\n",
       "      <td>...</td>\n",
       "      <td>0.0</td>\n",
       "      <td>1.0</td>\n",
       "      <td>1.0</td>\n",
       "      <td>0.0</td>\n",
       "      <td>0.0</td>\n",
       "      <td>0.0</td>\n",
       "      <td>0.0</td>\n",
       "      <td>1.0</td>\n",
       "      <td>0.0</td>\n",
       "      <td>0.0</td>\n",
       "    </tr>\n",
       "    <tr>\n",
       "      <th>568474</th>\n",
       "      <td>0.142857</td>\n",
       "      <td>0.660716</td>\n",
       "      <td>0.731711</td>\n",
       "      <td>0.932598</td>\n",
       "      <td>N</td>\n",
       "      <td>Monday</td>\n",
       "      <td>Monday</td>\n",
       "      <td>0.000000</td>\n",
       "      <td>0.000000</td>\n",
       "      <td>0.478261</td>\n",
       "      <td>...</td>\n",
       "      <td>0.0</td>\n",
       "      <td>0.0</td>\n",
       "      <td>0.0</td>\n",
       "      <td>0.0</td>\n",
       "      <td>0.0</td>\n",
       "      <td>1.0</td>\n",
       "      <td>0.0</td>\n",
       "      <td>0.0</td>\n",
       "      <td>0.0</td>\n",
       "      <td>1.0</td>\n",
       "    </tr>\n",
       "  </tbody>\n",
       "</table>\n",
       "<p>5 rows × 40 columns</p>\n",
       "</div>"
      ],
      "text/plain": [
       "        passenger_count  pickup_latitude  dropoff_latitude  dropoff_longitude  \\\n",
       "143620         0.142857         0.655026          0.728085           0.932237   \n",
       "631000         0.142857         0.656685          0.731724           0.932736   \n",
       "255733         0.142857         0.654564          0.730317           0.932397   \n",
       "376506         0.142857         0.657058          0.730398           0.932461   \n",
       "568474         0.142857         0.660716          0.731711           0.932598   \n",
       "\n",
       "       store_and_fwd_flag pickup_day dropoff_day  pickup_day_no  \\\n",
       "143620                  N     Sunday      Sunday       1.000000   \n",
       "631000                  N   Saturday    Saturday       0.833333   \n",
       "255733                  N   Thursday    Thursday       0.500000   \n",
       "376506                  N  Wednesday   Wednesday       0.333333   \n",
       "568474                  N     Monday      Monday       0.000000   \n",
       "\n",
       "        dropoff_day_no  pickup_hour  ...  dropoff_day_Tuesday  \\\n",
       "143620        1.000000     0.043478  ...                  0.0   \n",
       "631000        0.833333     0.304348  ...                  0.0   \n",
       "255733        0.500000     1.000000  ...                  0.0   \n",
       "376506        0.333333     0.652174  ...                  0.0   \n",
       "568474        0.000000     0.478261  ...                  0.0   \n",
       "\n",
       "        dropoff_day_Wednesday  pickup_timeofday_Afternoon  \\\n",
       "143620                    0.0                         0.0   \n",
       "631000                    0.0                         0.0   \n",
       "255733                    0.0                         0.0   \n",
       "376506                    1.0                         1.0   \n",
       "568474                    0.0                         0.0   \n",
       "\n",
       "       pickup_timeofday_Evening pickup_timeofday_Late night  \\\n",
       "143620                      0.0                         1.0   \n",
       "631000                      0.0                         0.0   \n",
       "255733                      0.0                         1.0   \n",
       "376506                      0.0                         0.0   \n",
       "568474                      0.0                         0.0   \n",
       "\n",
       "        pickup_timeofday_Morning  dropoff_timeofday_Afternoon  \\\n",
       "143620                       0.0                          0.0   \n",
       "631000                       1.0                          0.0   \n",
       "255733                       0.0                          0.0   \n",
       "376506                       0.0                          0.0   \n",
       "568474                       1.0                          0.0   \n",
       "\n",
       "        dropoff_timeofday_Evening  dropoff_timeofday_Late night  \\\n",
       "143620                        0.0                           1.0   \n",
       "631000                        0.0                           0.0   \n",
       "255733                        0.0                           1.0   \n",
       "376506                        1.0                           0.0   \n",
       "568474                        0.0                           0.0   \n",
       "\n",
       "        dropoff_timeofday_Morning  \n",
       "143620                        0.0  \n",
       "631000                        1.0  \n",
       "255733                        0.0  \n",
       "376506                        0.0  \n",
       "568474                        1.0  \n",
       "\n",
       "[5 rows x 40 columns]"
      ]
     },
     "execution_count": 70,
     "metadata": {},
     "output_type": "execute_result"
    }
   ],
   "source": [
    "train_inputs.head()"
   ]
  },
  {
   "cell_type": "code",
   "execution_count": 62,
   "id": "4013d60c",
   "metadata": {},
   "outputs": [
    {
     "data": {
      "text/html": [
       "<div>\n",
       "<style scoped>\n",
       "    .dataframe tbody tr th:only-of-type {\n",
       "        vertical-align: middle;\n",
       "    }\n",
       "\n",
       "    .dataframe tbody tr th {\n",
       "        vertical-align: top;\n",
       "    }\n",
       "\n",
       "    .dataframe thead th {\n",
       "        text-align: right;\n",
       "    }\n",
       "</style>\n",
       "<table border=\"1\" class=\"dataframe\">\n",
       "  <thead>\n",
       "    <tr style=\"text-align: right;\">\n",
       "      <th></th>\n",
       "      <th>passenger_count</th>\n",
       "      <th>pickup_latitude</th>\n",
       "      <th>dropoff_latitude</th>\n",
       "      <th>dropoff_longitude</th>\n",
       "      <th>store_and_fwd_flag</th>\n",
       "      <th>pickup_day</th>\n",
       "      <th>dropoff_day</th>\n",
       "      <th>pickup_day_no</th>\n",
       "      <th>dropoff_day_no</th>\n",
       "      <th>pickup_hour</th>\n",
       "      <th>...</th>\n",
       "      <th>dropoff_day_Tuesday</th>\n",
       "      <th>dropoff_day_Wednesday</th>\n",
       "      <th>pickup_timeofday_Afternoon</th>\n",
       "      <th>pickup_timeofday_Evening</th>\n",
       "      <th>pickup_timeofday_Late night</th>\n",
       "      <th>pickup_timeofday_Morning</th>\n",
       "      <th>dropoff_timeofday_Afternoon</th>\n",
       "      <th>dropoff_timeofday_Evening</th>\n",
       "      <th>dropoff_timeofday_Late night</th>\n",
       "      <th>dropoff_timeofday_Morning</th>\n",
       "    </tr>\n",
       "  </thead>\n",
       "  <tbody>\n",
       "    <tr>\n",
       "      <th>676092</th>\n",
       "      <td>0.142857</td>\n",
       "      <td>0.655848</td>\n",
       "      <td>0.730384</td>\n",
       "      <td>0.932327</td>\n",
       "      <td>N</td>\n",
       "      <td>Thursday</td>\n",
       "      <td>Thursday</td>\n",
       "      <td>0.500000</td>\n",
       "      <td>0.500000</td>\n",
       "      <td>1.000000</td>\n",
       "      <td>...</td>\n",
       "      <td>0.0</td>\n",
       "      <td>0.0</td>\n",
       "      <td>0.0</td>\n",
       "      <td>0.0</td>\n",
       "      <td>1.0</td>\n",
       "      <td>0.0</td>\n",
       "      <td>0.0</td>\n",
       "      <td>0.0</td>\n",
       "      <td>1.0</td>\n",
       "      <td>0.0</td>\n",
       "    </tr>\n",
       "    <tr>\n",
       "      <th>25062</th>\n",
       "      <td>0.285714</td>\n",
       "      <td>0.655133</td>\n",
       "      <td>0.730361</td>\n",
       "      <td>0.932255</td>\n",
       "      <td>N</td>\n",
       "      <td>Sunday</td>\n",
       "      <td>Sunday</td>\n",
       "      <td>1.000000</td>\n",
       "      <td>1.000000</td>\n",
       "      <td>0.739130</td>\n",
       "      <td>...</td>\n",
       "      <td>0.0</td>\n",
       "      <td>0.0</td>\n",
       "      <td>0.0</td>\n",
       "      <td>1.0</td>\n",
       "      <td>0.0</td>\n",
       "      <td>0.0</td>\n",
       "      <td>0.0</td>\n",
       "      <td>1.0</td>\n",
       "      <td>0.0</td>\n",
       "      <td>0.0</td>\n",
       "    </tr>\n",
       "    <tr>\n",
       "      <th>153467</th>\n",
       "      <td>0.142857</td>\n",
       "      <td>0.657752</td>\n",
       "      <td>0.731883</td>\n",
       "      <td>0.932421</td>\n",
       "      <td>N</td>\n",
       "      <td>Thursday</td>\n",
       "      <td>Thursday</td>\n",
       "      <td>0.500000</td>\n",
       "      <td>0.500000</td>\n",
       "      <td>0.739130</td>\n",
       "      <td>...</td>\n",
       "      <td>0.0</td>\n",
       "      <td>0.0</td>\n",
       "      <td>0.0</td>\n",
       "      <td>1.0</td>\n",
       "      <td>0.0</td>\n",
       "      <td>0.0</td>\n",
       "      <td>0.0</td>\n",
       "      <td>1.0</td>\n",
       "      <td>0.0</td>\n",
       "      <td>0.0</td>\n",
       "    </tr>\n",
       "    <tr>\n",
       "      <th>551167</th>\n",
       "      <td>0.142857</td>\n",
       "      <td>0.654417</td>\n",
       "      <td>0.728301</td>\n",
       "      <td>0.932458</td>\n",
       "      <td>N</td>\n",
       "      <td>Wednesday</td>\n",
       "      <td>Wednesday</td>\n",
       "      <td>0.333333</td>\n",
       "      <td>0.333333</td>\n",
       "      <td>1.000000</td>\n",
       "      <td>...</td>\n",
       "      <td>0.0</td>\n",
       "      <td>1.0</td>\n",
       "      <td>0.0</td>\n",
       "      <td>0.0</td>\n",
       "      <td>1.0</td>\n",
       "      <td>0.0</td>\n",
       "      <td>0.0</td>\n",
       "      <td>0.0</td>\n",
       "      <td>1.0</td>\n",
       "      <td>0.0</td>\n",
       "    </tr>\n",
       "    <tr>\n",
       "      <th>577457</th>\n",
       "      <td>0.142857</td>\n",
       "      <td>0.659263</td>\n",
       "      <td>0.733940</td>\n",
       "      <td>0.932621</td>\n",
       "      <td>N</td>\n",
       "      <td>Wednesday</td>\n",
       "      <td>Wednesday</td>\n",
       "      <td>0.333333</td>\n",
       "      <td>0.333333</td>\n",
       "      <td>0.913043</td>\n",
       "      <td>...</td>\n",
       "      <td>0.0</td>\n",
       "      <td>1.0</td>\n",
       "      <td>0.0</td>\n",
       "      <td>1.0</td>\n",
       "      <td>0.0</td>\n",
       "      <td>0.0</td>\n",
       "      <td>0.0</td>\n",
       "      <td>1.0</td>\n",
       "      <td>0.0</td>\n",
       "      <td>0.0</td>\n",
       "    </tr>\n",
       "    <tr>\n",
       "      <th>...</th>\n",
       "      <td>...</td>\n",
       "      <td>...</td>\n",
       "      <td>...</td>\n",
       "      <td>...</td>\n",
       "      <td>...</td>\n",
       "      <td>...</td>\n",
       "      <td>...</td>\n",
       "      <td>...</td>\n",
       "      <td>...</td>\n",
       "      <td>...</td>\n",
       "      <td>...</td>\n",
       "      <td>...</td>\n",
       "      <td>...</td>\n",
       "      <td>...</td>\n",
       "      <td>...</td>\n",
       "      <td>...</td>\n",
       "      <td>...</td>\n",
       "      <td>...</td>\n",
       "      <td>...</td>\n",
       "      <td>...</td>\n",
       "      <td>...</td>\n",
       "    </tr>\n",
       "    <tr>\n",
       "      <th>463677</th>\n",
       "      <td>0.142857</td>\n",
       "      <td>0.648809</td>\n",
       "      <td>0.724165</td>\n",
       "      <td>0.932187</td>\n",
       "      <td>N</td>\n",
       "      <td>Thursday</td>\n",
       "      <td>Thursday</td>\n",
       "      <td>0.500000</td>\n",
       "      <td>0.500000</td>\n",
       "      <td>1.000000</td>\n",
       "      <td>...</td>\n",
       "      <td>0.0</td>\n",
       "      <td>0.0</td>\n",
       "      <td>0.0</td>\n",
       "      <td>0.0</td>\n",
       "      <td>1.0</td>\n",
       "      <td>0.0</td>\n",
       "      <td>0.0</td>\n",
       "      <td>0.0</td>\n",
       "      <td>1.0</td>\n",
       "      <td>0.0</td>\n",
       "    </tr>\n",
       "    <tr>\n",
       "      <th>58476</th>\n",
       "      <td>0.142857</td>\n",
       "      <td>0.654430</td>\n",
       "      <td>0.731987</td>\n",
       "      <td>0.934852</td>\n",
       "      <td>N</td>\n",
       "      <td>Sunday</td>\n",
       "      <td>Sunday</td>\n",
       "      <td>1.000000</td>\n",
       "      <td>1.000000</td>\n",
       "      <td>0.695652</td>\n",
       "      <td>...</td>\n",
       "      <td>0.0</td>\n",
       "      <td>0.0</td>\n",
       "      <td>0.0</td>\n",
       "      <td>1.0</td>\n",
       "      <td>0.0</td>\n",
       "      <td>0.0</td>\n",
       "      <td>0.0</td>\n",
       "      <td>1.0</td>\n",
       "      <td>0.0</td>\n",
       "      <td>0.0</td>\n",
       "    </tr>\n",
       "    <tr>\n",
       "      <th>194967</th>\n",
       "      <td>0.142857</td>\n",
       "      <td>0.656888</td>\n",
       "      <td>0.730628</td>\n",
       "      <td>0.932589</td>\n",
       "      <td>N</td>\n",
       "      <td>Monday</td>\n",
       "      <td>Monday</td>\n",
       "      <td>0.000000</td>\n",
       "      <td>0.000000</td>\n",
       "      <td>0.652174</td>\n",
       "      <td>...</td>\n",
       "      <td>0.0</td>\n",
       "      <td>0.0</td>\n",
       "      <td>1.0</td>\n",
       "      <td>0.0</td>\n",
       "      <td>0.0</td>\n",
       "      <td>0.0</td>\n",
       "      <td>0.0</td>\n",
       "      <td>1.0</td>\n",
       "      <td>0.0</td>\n",
       "      <td>0.0</td>\n",
       "    </tr>\n",
       "    <tr>\n",
       "      <th>335125</th>\n",
       "      <td>0.142857</td>\n",
       "      <td>0.653764</td>\n",
       "      <td>0.730042</td>\n",
       "      <td>0.932508</td>\n",
       "      <td>N</td>\n",
       "      <td>Sunday</td>\n",
       "      <td>Sunday</td>\n",
       "      <td>1.000000</td>\n",
       "      <td>1.000000</td>\n",
       "      <td>0.086957</td>\n",
       "      <td>...</td>\n",
       "      <td>0.0</td>\n",
       "      <td>0.0</td>\n",
       "      <td>0.0</td>\n",
       "      <td>0.0</td>\n",
       "      <td>1.0</td>\n",
       "      <td>0.0</td>\n",
       "      <td>0.0</td>\n",
       "      <td>0.0</td>\n",
       "      <td>1.0</td>\n",
       "      <td>0.0</td>\n",
       "    </tr>\n",
       "    <tr>\n",
       "      <th>88312</th>\n",
       "      <td>0.428571</td>\n",
       "      <td>0.654017</td>\n",
       "      <td>0.730140</td>\n",
       "      <td>0.932504</td>\n",
       "      <td>N</td>\n",
       "      <td>Saturday</td>\n",
       "      <td>Saturday</td>\n",
       "      <td>0.833333</td>\n",
       "      <td>0.833333</td>\n",
       "      <td>0.913043</td>\n",
       "      <td>...</td>\n",
       "      <td>0.0</td>\n",
       "      <td>0.0</td>\n",
       "      <td>0.0</td>\n",
       "      <td>1.0</td>\n",
       "      <td>0.0</td>\n",
       "      <td>0.0</td>\n",
       "      <td>0.0</td>\n",
       "      <td>1.0</td>\n",
       "      <td>0.0</td>\n",
       "      <td>0.0</td>\n",
       "    </tr>\n",
       "  </tbody>\n",
       "</table>\n",
       "<p>145864 rows × 40 columns</p>\n",
       "</div>"
      ],
      "text/plain": [
       "        passenger_count  pickup_latitude  dropoff_latitude  dropoff_longitude  \\\n",
       "676092         0.142857         0.655848          0.730384           0.932327   \n",
       "25062          0.285714         0.655133          0.730361           0.932255   \n",
       "153467         0.142857         0.657752          0.731883           0.932421   \n",
       "551167         0.142857         0.654417          0.728301           0.932458   \n",
       "577457         0.142857         0.659263          0.733940           0.932621   \n",
       "...                 ...              ...               ...                ...   \n",
       "463677         0.142857         0.648809          0.724165           0.932187   \n",
       "58476          0.142857         0.654430          0.731987           0.934852   \n",
       "194967         0.142857         0.656888          0.730628           0.932589   \n",
       "335125         0.142857         0.653764          0.730042           0.932508   \n",
       "88312          0.428571         0.654017          0.730140           0.932504   \n",
       "\n",
       "       store_and_fwd_flag pickup_day dropoff_day  pickup_day_no  \\\n",
       "676092                  N   Thursday    Thursday       0.500000   \n",
       "25062                   N     Sunday      Sunday       1.000000   \n",
       "153467                  N   Thursday    Thursday       0.500000   \n",
       "551167                  N  Wednesday   Wednesday       0.333333   \n",
       "577457                  N  Wednesday   Wednesday       0.333333   \n",
       "...                   ...        ...         ...            ...   \n",
       "463677                  N   Thursday    Thursday       0.500000   \n",
       "58476                   N     Sunday      Sunday       1.000000   \n",
       "194967                  N     Monday      Monday       0.000000   \n",
       "335125                  N     Sunday      Sunday       1.000000   \n",
       "88312                   N   Saturday    Saturday       0.833333   \n",
       "\n",
       "        dropoff_day_no  pickup_hour  ...  dropoff_day_Tuesday  \\\n",
       "676092        0.500000     1.000000  ...                  0.0   \n",
       "25062         1.000000     0.739130  ...                  0.0   \n",
       "153467        0.500000     0.739130  ...                  0.0   \n",
       "551167        0.333333     1.000000  ...                  0.0   \n",
       "577457        0.333333     0.913043  ...                  0.0   \n",
       "...                ...          ...  ...                  ...   \n",
       "463677        0.500000     1.000000  ...                  0.0   \n",
       "58476         1.000000     0.695652  ...                  0.0   \n",
       "194967        0.000000     0.652174  ...                  0.0   \n",
       "335125        1.000000     0.086957  ...                  0.0   \n",
       "88312         0.833333     0.913043  ...                  0.0   \n",
       "\n",
       "        dropoff_day_Wednesday  pickup_timeofday_Afternoon  \\\n",
       "676092                    0.0                         0.0   \n",
       "25062                     0.0                         0.0   \n",
       "153467                    0.0                         0.0   \n",
       "551167                    1.0                         0.0   \n",
       "577457                    1.0                         0.0   \n",
       "...                       ...                         ...   \n",
       "463677                    0.0                         0.0   \n",
       "58476                     0.0                         0.0   \n",
       "194967                    0.0                         1.0   \n",
       "335125                    0.0                         0.0   \n",
       "88312                     0.0                         0.0   \n",
       "\n",
       "       pickup_timeofday_Evening pickup_timeofday_Late night  \\\n",
       "676092                      0.0                         1.0   \n",
       "25062                       1.0                         0.0   \n",
       "153467                      1.0                         0.0   \n",
       "551167                      0.0                         1.0   \n",
       "577457                      1.0                         0.0   \n",
       "...                         ...                         ...   \n",
       "463677                      0.0                         1.0   \n",
       "58476                       1.0                         0.0   \n",
       "194967                      0.0                         0.0   \n",
       "335125                      0.0                         1.0   \n",
       "88312                       1.0                         0.0   \n",
       "\n",
       "        pickup_timeofday_Morning  dropoff_timeofday_Afternoon  \\\n",
       "676092                       0.0                          0.0   \n",
       "25062                        0.0                          0.0   \n",
       "153467                       0.0                          0.0   \n",
       "551167                       0.0                          0.0   \n",
       "577457                       0.0                          0.0   \n",
       "...                          ...                          ...   \n",
       "463677                       0.0                          0.0   \n",
       "58476                        0.0                          0.0   \n",
       "194967                       0.0                          0.0   \n",
       "335125                       0.0                          0.0   \n",
       "88312                        0.0                          0.0   \n",
       "\n",
       "        dropoff_timeofday_Evening  dropoff_timeofday_Late night  \\\n",
       "676092                        0.0                           1.0   \n",
       "25062                         1.0                           0.0   \n",
       "153467                        1.0                           0.0   \n",
       "551167                        0.0                           1.0   \n",
       "577457                        1.0                           0.0   \n",
       "...                           ...                           ...   \n",
       "463677                        0.0                           1.0   \n",
       "58476                         1.0                           0.0   \n",
       "194967                        1.0                           0.0   \n",
       "335125                        0.0                           1.0   \n",
       "88312                         1.0                           0.0   \n",
       "\n",
       "        dropoff_timeofday_Morning  \n",
       "676092                        0.0  \n",
       "25062                         0.0  \n",
       "153467                        0.0  \n",
       "551167                        0.0  \n",
       "577457                        0.0  \n",
       "...                           ...  \n",
       "463677                        0.0  \n",
       "58476                         0.0  \n",
       "194967                        0.0  \n",
       "335125                        0.0  \n",
       "88312                         0.0  \n",
       "\n",
       "[145864 rows x 40 columns]"
      ]
     },
     "execution_count": 62,
     "metadata": {},
     "output_type": "execute_result"
    }
   ],
   "source": [
    "val_inputs"
   ]
  },
  {
   "cell_type": "code",
   "execution_count": 63,
   "id": "0a4480bd",
   "metadata": {},
   "outputs": [],
   "source": [
    "x_train = train_inputs[numeric_col + enc_col]\n",
    "x_val = val_inputs[numeric_col+enc_col]\n",
    "x_test = test_inputs[numeric_col + enc_col]"
   ]
  },
  {
   "cell_type": "code",
   "execution_count": 64,
   "id": "b6973008",
   "metadata": {},
   "outputs": [
    {
     "data": {
      "text/html": [
       "<div>\n",
       "<style scoped>\n",
       "    .dataframe tbody tr th:only-of-type {\n",
       "        vertical-align: middle;\n",
       "    }\n",
       "\n",
       "    .dataframe tbody tr th {\n",
       "        vertical-align: top;\n",
       "    }\n",
       "\n",
       "    .dataframe thead th {\n",
       "        text-align: right;\n",
       "    }\n",
       "</style>\n",
       "<table border=\"1\" class=\"dataframe\">\n",
       "  <thead>\n",
       "    <tr style=\"text-align: right;\">\n",
       "      <th></th>\n",
       "      <th>passenger_count</th>\n",
       "      <th>pickup_latitude</th>\n",
       "      <th>dropoff_latitude</th>\n",
       "      <th>dropoff_longitude</th>\n",
       "      <th>store_and_fwd_flag</th>\n",
       "      <th>pickup_day</th>\n",
       "      <th>dropoff_day</th>\n",
       "      <th>pickup_day_no</th>\n",
       "      <th>dropoff_day_no</th>\n",
       "      <th>pickup_hour</th>\n",
       "      <th>...</th>\n",
       "      <th>dropoff_day_Tuesday</th>\n",
       "      <th>dropoff_day_Wednesday</th>\n",
       "      <th>pickup_timeofday_Afternoon</th>\n",
       "      <th>pickup_timeofday_Evening</th>\n",
       "      <th>pickup_timeofday_Late night</th>\n",
       "      <th>pickup_timeofday_Morning</th>\n",
       "      <th>dropoff_timeofday_Afternoon</th>\n",
       "      <th>dropoff_timeofday_Evening</th>\n",
       "      <th>dropoff_timeofday_Late night</th>\n",
       "      <th>dropoff_timeofday_Morning</th>\n",
       "    </tr>\n",
       "  </thead>\n",
       "  <tbody>\n",
       "    <tr>\n",
       "      <th>143620</th>\n",
       "      <td>0.142857</td>\n",
       "      <td>0.655026</td>\n",
       "      <td>0.728085</td>\n",
       "      <td>0.932237</td>\n",
       "      <td>N</td>\n",
       "      <td>Sunday</td>\n",
       "      <td>Sunday</td>\n",
       "      <td>1.000000</td>\n",
       "      <td>1.000000</td>\n",
       "      <td>0.043478</td>\n",
       "      <td>...</td>\n",
       "      <td>0.0</td>\n",
       "      <td>0.0</td>\n",
       "      <td>0.0</td>\n",
       "      <td>0.0</td>\n",
       "      <td>1.0</td>\n",
       "      <td>0.0</td>\n",
       "      <td>0.0</td>\n",
       "      <td>0.0</td>\n",
       "      <td>1.0</td>\n",
       "      <td>0.0</td>\n",
       "    </tr>\n",
       "    <tr>\n",
       "      <th>631000</th>\n",
       "      <td>0.142857</td>\n",
       "      <td>0.656685</td>\n",
       "      <td>0.731724</td>\n",
       "      <td>0.932736</td>\n",
       "      <td>N</td>\n",
       "      <td>Saturday</td>\n",
       "      <td>Saturday</td>\n",
       "      <td>0.833333</td>\n",
       "      <td>0.833333</td>\n",
       "      <td>0.304348</td>\n",
       "      <td>...</td>\n",
       "      <td>0.0</td>\n",
       "      <td>0.0</td>\n",
       "      <td>0.0</td>\n",
       "      <td>0.0</td>\n",
       "      <td>0.0</td>\n",
       "      <td>1.0</td>\n",
       "      <td>0.0</td>\n",
       "      <td>0.0</td>\n",
       "      <td>0.0</td>\n",
       "      <td>1.0</td>\n",
       "    </tr>\n",
       "    <tr>\n",
       "      <th>255733</th>\n",
       "      <td>0.142857</td>\n",
       "      <td>0.654564</td>\n",
       "      <td>0.730317</td>\n",
       "      <td>0.932397</td>\n",
       "      <td>N</td>\n",
       "      <td>Thursday</td>\n",
       "      <td>Thursday</td>\n",
       "      <td>0.500000</td>\n",
       "      <td>0.500000</td>\n",
       "      <td>1.000000</td>\n",
       "      <td>...</td>\n",
       "      <td>0.0</td>\n",
       "      <td>0.0</td>\n",
       "      <td>0.0</td>\n",
       "      <td>0.0</td>\n",
       "      <td>1.0</td>\n",
       "      <td>0.0</td>\n",
       "      <td>0.0</td>\n",
       "      <td>0.0</td>\n",
       "      <td>1.0</td>\n",
       "      <td>0.0</td>\n",
       "    </tr>\n",
       "    <tr>\n",
       "      <th>376506</th>\n",
       "      <td>0.142857</td>\n",
       "      <td>0.657058</td>\n",
       "      <td>0.730398</td>\n",
       "      <td>0.932461</td>\n",
       "      <td>N</td>\n",
       "      <td>Wednesday</td>\n",
       "      <td>Wednesday</td>\n",
       "      <td>0.333333</td>\n",
       "      <td>0.333333</td>\n",
       "      <td>0.652174</td>\n",
       "      <td>...</td>\n",
       "      <td>0.0</td>\n",
       "      <td>1.0</td>\n",
       "      <td>1.0</td>\n",
       "      <td>0.0</td>\n",
       "      <td>0.0</td>\n",
       "      <td>0.0</td>\n",
       "      <td>0.0</td>\n",
       "      <td>1.0</td>\n",
       "      <td>0.0</td>\n",
       "      <td>0.0</td>\n",
       "    </tr>\n",
       "    <tr>\n",
       "      <th>568474</th>\n",
       "      <td>0.142857</td>\n",
       "      <td>0.660716</td>\n",
       "      <td>0.731711</td>\n",
       "      <td>0.932598</td>\n",
       "      <td>N</td>\n",
       "      <td>Monday</td>\n",
       "      <td>Monday</td>\n",
       "      <td>0.000000</td>\n",
       "      <td>0.000000</td>\n",
       "      <td>0.478261</td>\n",
       "      <td>...</td>\n",
       "      <td>0.0</td>\n",
       "      <td>0.0</td>\n",
       "      <td>0.0</td>\n",
       "      <td>0.0</td>\n",
       "      <td>0.0</td>\n",
       "      <td>1.0</td>\n",
       "      <td>0.0</td>\n",
       "      <td>0.0</td>\n",
       "      <td>0.0</td>\n",
       "      <td>1.0</td>\n",
       "    </tr>\n",
       "  </tbody>\n",
       "</table>\n",
       "<p>5 rows × 40 columns</p>\n",
       "</div>"
      ],
      "text/plain": [
       "        passenger_count  pickup_latitude  dropoff_latitude  dropoff_longitude  \\\n",
       "143620         0.142857         0.655026          0.728085           0.932237   \n",
       "631000         0.142857         0.656685          0.731724           0.932736   \n",
       "255733         0.142857         0.654564          0.730317           0.932397   \n",
       "376506         0.142857         0.657058          0.730398           0.932461   \n",
       "568474         0.142857         0.660716          0.731711           0.932598   \n",
       "\n",
       "       store_and_fwd_flag pickup_day dropoff_day  pickup_day_no  \\\n",
       "143620                  N     Sunday      Sunday       1.000000   \n",
       "631000                  N   Saturday    Saturday       0.833333   \n",
       "255733                  N   Thursday    Thursday       0.500000   \n",
       "376506                  N  Wednesday   Wednesday       0.333333   \n",
       "568474                  N     Monday      Monday       0.000000   \n",
       "\n",
       "        dropoff_day_no  pickup_hour  ...  dropoff_day_Tuesday  \\\n",
       "143620        1.000000     0.043478  ...                  0.0   \n",
       "631000        0.833333     0.304348  ...                  0.0   \n",
       "255733        0.500000     1.000000  ...                  0.0   \n",
       "376506        0.333333     0.652174  ...                  0.0   \n",
       "568474        0.000000     0.478261  ...                  0.0   \n",
       "\n",
       "        dropoff_day_Wednesday  pickup_timeofday_Afternoon  \\\n",
       "143620                    0.0                         0.0   \n",
       "631000                    0.0                         0.0   \n",
       "255733                    0.0                         0.0   \n",
       "376506                    1.0                         1.0   \n",
       "568474                    0.0                         0.0   \n",
       "\n",
       "       pickup_timeofday_Evening pickup_timeofday_Late night  \\\n",
       "143620                      0.0                         1.0   \n",
       "631000                      0.0                         0.0   \n",
       "255733                      0.0                         1.0   \n",
       "376506                      0.0                         0.0   \n",
       "568474                      0.0                         0.0   \n",
       "\n",
       "        pickup_timeofday_Morning  dropoff_timeofday_Afternoon  \\\n",
       "143620                       0.0                          0.0   \n",
       "631000                       1.0                          0.0   \n",
       "255733                       0.0                          0.0   \n",
       "376506                       0.0                          0.0   \n",
       "568474                       1.0                          0.0   \n",
       "\n",
       "        dropoff_timeofday_Evening  dropoff_timeofday_Late night  \\\n",
       "143620                        0.0                           1.0   \n",
       "631000                        0.0                           0.0   \n",
       "255733                        0.0                           1.0   \n",
       "376506                        1.0                           0.0   \n",
       "568474                        0.0                           0.0   \n",
       "\n",
       "        dropoff_timeofday_Morning  \n",
       "143620                        0.0  \n",
       "631000                        1.0  \n",
       "255733                        0.0  \n",
       "376506                        0.0  \n",
       "568474                        1.0  \n",
       "\n",
       "[5 rows x 40 columns]"
      ]
     },
     "execution_count": 64,
     "metadata": {},
     "output_type": "execute_result"
    }
   ],
   "source": [
    "train_inputs.head()"
   ]
  },
  {
   "cell_type": "code",
   "execution_count": 65,
   "id": "eaccbb03",
   "metadata": {},
   "outputs": [
    {
     "name": "stdout",
     "output_type": "stream",
     "text": [
      "<class 'pandas.core.frame.DataFrame'>\n",
      "Int64Index: 437592 entries, 143620 to 64817\n",
      "Data columns (total 40 columns):\n",
      " #   Column                        Non-Null Count   Dtype  \n",
      "---  ------                        --------------   -----  \n",
      " 0   passenger_count               437592 non-null  float64\n",
      " 1   pickup_latitude               437592 non-null  float64\n",
      " 2   dropoff_latitude              437592 non-null  float64\n",
      " 3   dropoff_longitude             437592 non-null  float64\n",
      " 4   store_and_fwd_flag            437592 non-null  object \n",
      " 5   pickup_day                    437592 non-null  object \n",
      " 6   dropoff_day                   437592 non-null  object \n",
      " 7   pickup_day_no                 437592 non-null  float64\n",
      " 8   dropoff_day_no                437592 non-null  float64\n",
      " 9   pickup_hour                   437592 non-null  float64\n",
      " 10  dropoff_hour                  437592 non-null  float64\n",
      " 11  pickup_month                  437592 non-null  float64\n",
      " 12  dropoff_month                 437592 non-null  float64\n",
      " 13  pickup_timeofday              437592 non-null  object \n",
      " 14  dropoff_timeofday             437592 non-null  object \n",
      " 15  distance                      437592 non-null  float64\n",
      " 16  store_and_fwd_flag_N          437592 non-null  float64\n",
      " 17  store_and_fwd_flag_Y          437592 non-null  float64\n",
      " 18  pickup_day_Friday             437592 non-null  float64\n",
      " 19  pickup_day_Monday             437592 non-null  float64\n",
      " 20  pickup_day_Saturday           437592 non-null  float64\n",
      " 21  pickup_day_Sunday             437592 non-null  float64\n",
      " 22  pickup_day_Thursday           437592 non-null  float64\n",
      " 23  pickup_day_Tuesday            437592 non-null  float64\n",
      " 24  pickup_day_Wednesday          437592 non-null  float64\n",
      " 25  dropoff_day_Friday            437592 non-null  float64\n",
      " 26  dropoff_day_Monday            437592 non-null  float64\n",
      " 27  dropoff_day_Saturday          437592 non-null  float64\n",
      " 28  dropoff_day_Sunday            437592 non-null  float64\n",
      " 29  dropoff_day_Thursday          437592 non-null  float64\n",
      " 30  dropoff_day_Tuesday           437592 non-null  float64\n",
      " 31  dropoff_day_Wednesday         437592 non-null  float64\n",
      " 32  pickup_timeofday_Afternoon    437592 non-null  float64\n",
      " 33  pickup_timeofday_Evening      437592 non-null  float64\n",
      " 34  pickup_timeofday_Late night   437592 non-null  float64\n",
      " 35  pickup_timeofday_Morning      437592 non-null  float64\n",
      " 36  dropoff_timeofday_Afternoon   437592 non-null  float64\n",
      " 37  dropoff_timeofday_Evening     437592 non-null  float64\n",
      " 38  dropoff_timeofday_Late night  437592 non-null  float64\n",
      " 39  dropoff_timeofday_Morning     437592 non-null  float64\n",
      "dtypes: float64(35), object(5)\n",
      "memory usage: 136.9+ MB\n"
     ]
    }
   ],
   "source": [
    "train_inputs.info()"
   ]
  },
  {
   "cell_type": "code",
   "execution_count": 71,
   "id": "82c2a560",
   "metadata": {},
   "outputs": [],
   "source": [
    "train_inputs.drop(['store_and_fwd_flag','pickup_day','dropoff_day','pickup_timeofday','dropoff_timeofday'], axis=1,inplace=True)"
   ]
  },
  {
   "cell_type": "code",
   "execution_count": 74,
   "id": "76ef2658",
   "metadata": {},
   "outputs": [],
   "source": [
    "test_inputs.drop(['store_and_fwd_flag','pickup_day','dropoff_day','pickup_timeofday','dropoff_timeofday'], axis=1,inplace=True)"
   ]
  },
  {
   "cell_type": "code",
   "execution_count": 76,
   "id": "96635a8c",
   "metadata": {
    "scrolled": true
   },
   "outputs": [
    {
     "name": "stdout",
     "output_type": "stream",
     "text": [
      "<class 'pandas.core.frame.DataFrame'>\n",
      "Int64Index: 145865 entries, 704326 to 78491\n",
      "Data columns (total 35 columns):\n",
      " #   Column                        Non-Null Count   Dtype  \n",
      "---  ------                        --------------   -----  \n",
      " 0   passenger_count               145865 non-null  float64\n",
      " 1   pickup_latitude               145865 non-null  float64\n",
      " 2   dropoff_latitude              145865 non-null  float64\n",
      " 3   dropoff_longitude             145865 non-null  float64\n",
      " 4   pickup_day_no                 145865 non-null  float64\n",
      " 5   dropoff_day_no                145865 non-null  float64\n",
      " 6   pickup_hour                   145865 non-null  float64\n",
      " 7   dropoff_hour                  145865 non-null  float64\n",
      " 8   pickup_month                  145865 non-null  float64\n",
      " 9   dropoff_month                 145865 non-null  float64\n",
      " 10  distance                      145865 non-null  float64\n",
      " 11  store_and_fwd_flag_N          145865 non-null  float64\n",
      " 12  store_and_fwd_flag_Y          145865 non-null  float64\n",
      " 13  pickup_day_Friday             145865 non-null  float64\n",
      " 14  pickup_day_Monday             145865 non-null  float64\n",
      " 15  pickup_day_Saturday           145865 non-null  float64\n",
      " 16  pickup_day_Sunday             145865 non-null  float64\n",
      " 17  pickup_day_Thursday           145865 non-null  float64\n",
      " 18  pickup_day_Tuesday            145865 non-null  float64\n",
      " 19  pickup_day_Wednesday          145865 non-null  float64\n",
      " 20  dropoff_day_Friday            145865 non-null  float64\n",
      " 21  dropoff_day_Monday            145865 non-null  float64\n",
      " 22  dropoff_day_Saturday          145865 non-null  float64\n",
      " 23  dropoff_day_Sunday            145865 non-null  float64\n",
      " 24  dropoff_day_Thursday          145865 non-null  float64\n",
      " 25  dropoff_day_Tuesday           145865 non-null  float64\n",
      " 26  dropoff_day_Wednesday         145865 non-null  float64\n",
      " 27  pickup_timeofday_Afternoon    145865 non-null  float64\n",
      " 28  pickup_timeofday_Evening      145865 non-null  float64\n",
      " 29  pickup_timeofday_Late night   145865 non-null  float64\n",
      " 30  pickup_timeofday_Morning      145865 non-null  float64\n",
      " 31  dropoff_timeofday_Afternoon   145865 non-null  float64\n",
      " 32  dropoff_timeofday_Evening     145865 non-null  float64\n",
      " 33  dropoff_timeofday_Late night  145865 non-null  float64\n",
      " 34  dropoff_timeofday_Morning     145865 non-null  float64\n",
      "dtypes: float64(35)\n",
      "memory usage: 40.1 MB\n"
     ]
    }
   ],
   "source": [
    "test_inputs.info()"
   ]
  },
  {
   "cell_type": "code",
   "execution_count": null,
   "id": "d5970076",
   "metadata": {},
   "outputs": [],
   "source": [
    "# KNN regression"
   ]
  },
  {
   "cell_type": "code",
   "execution_count": 77,
   "id": "00c582c9",
   "metadata": {},
   "outputs": [
    {
     "data": {
      "text/plain": [
       "KNeighborsRegressor()"
      ]
     },
     "execution_count": 77,
     "metadata": {},
     "output_type": "execute_result"
    }
   ],
   "source": [
    "reg = KNN(n_neighbors = 5)\n",
    "\n",
    "# Fitting the model\n",
    "reg.fit(train_inputs, train_targets)"
   ]
  },
  {
   "cell_type": "code",
   "execution_count": 78,
   "id": "959894dc",
   "metadata": {},
   "outputs": [
    {
     "name": "stdout",
     "output_type": "stream",
     "text": [
      "Test MSE     487337.7184763995\n"
     ]
    }
   ],
   "source": [
    "test_predict = reg.predict(test_inputs)\n",
    "k = mse(test_predict, test_targets)\n",
    "print('Test MSE    ', k )"
   ]
  },
  {
   "cell_type": "code",
   "execution_count": 79,
   "id": "d18f5c96",
   "metadata": {},
   "outputs": [],
   "source": [
    "def Elbow(K):\n",
    "  #initiating empty list\n",
    "    test_mse = []\n",
    "  \n",
    "  #training model for evey value of K\n",
    "    for i in K:\n",
    "        #Instance of KNN\n",
    "        reg = KNN(n_neighbors = i)\n",
    "        reg.fit(train_inputs, train_targets)\n",
    "        #Appending mse value to empty list claculated using the predictions\n",
    "        tmp = reg.predict(test_inputs)\n",
    "        tmp = mse(tmp,test_targets)\n",
    "        test_mse.append(tmp)\n",
    "    \n",
    "    return test_mse"
   ]
  },
  {
   "cell_type": "code",
   "execution_count": null,
   "id": "67f88ab3",
   "metadata": {},
   "outputs": [],
   "source": [
    "#linear regression "
   ]
  },
  {
   "cell_type": "code",
   "execution_count": 85,
   "id": "aae0b5a1",
   "metadata": {},
   "outputs": [],
   "source": [
    "from sklearn.linear_model import LinearRegression"
   ]
  },
  {
   "cell_type": "code",
   "execution_count": 86,
   "id": "353fa791",
   "metadata": {},
   "outputs": [],
   "source": [
    "model = LinearRegression()"
   ]
  },
  {
   "cell_type": "code",
   "execution_count": 87,
   "id": "20ad9eb8",
   "metadata": {},
   "outputs": [
    {
     "data": {
      "text/plain": [
       "LinearRegression()"
      ]
     },
     "execution_count": 87,
     "metadata": {},
     "output_type": "execute_result"
    }
   ],
   "source": [
    "model.fit(train_inputs,train_targets)"
   ]
  },
  {
   "cell_type": "code",
   "execution_count": 89,
   "id": "d49b8bd4",
   "metadata": {},
   "outputs": [
    {
     "data": {
      "text/plain": [
       "array([ 661. ,  736. , 1316. , ..., 1013.5,  698.5, 1705.5])"
      ]
     },
     "execution_count": 89,
     "metadata": {},
     "output_type": "execute_result"
    }
   ],
   "source": [
    "model.predict(test_inputs)"
   ]
  },
  {
   "cell_type": "code",
   "execution_count": 90,
   "id": "20f6bae1",
   "metadata": {},
   "outputs": [
    {
     "name": "stdout",
     "output_type": "stream",
     "text": [
      "0.02176675743442391\n"
     ]
    }
   ],
   "source": [
    "print(model.score(test_inputs, test_targets))"
   ]
  },
  {
   "cell_type": "code",
   "execution_count": 91,
   "id": "d6bd6bd5",
   "metadata": {},
   "outputs": [
    {
     "data": {
      "text/plain": [
       "3068.1656602840103"
      ]
     },
     "execution_count": 91,
     "metadata": {},
     "output_type": "execute_result"
    }
   ],
   "source": [
    "from sklearn.metrics import mean_squared_error\n",
    "mean_squared_error(model.predict(train_inputs),train_targets,squared=False)"
   ]
  },
  {
   "cell_type": "code",
   "execution_count": 92,
   "id": "16845811",
   "metadata": {},
   "outputs": [
    {
     "name": "stdout",
     "output_type": "stream",
     "text": [
      "9890937.190406412\n"
     ]
    }
   ],
   "source": [
    "from sklearn.linear_model import Lasso\n",
    "lasso = Lasso()\n",
    "lasso.fit(train_inputs, train_targets)\n",
    "y_pred_lasso = lasso.predict(test_inputs)\n",
    "mse = mean_squared_error(test_targets, y_pred_lasso)\n",
    "print(mse)"
   ]
  },
  {
   "cell_type": "code",
   "execution_count": 93,
   "id": "295121f0",
   "metadata": {},
   "outputs": [
    {
     "name": "stdout",
     "output_type": "stream",
     "text": [
      "9871020.440708082\n"
     ]
    }
   ],
   "source": [
    "from sklearn.linear_model import Ridge\n",
    "ridge = Ridge()\n",
    "ridge.fit(train_inputs, train_targets)\n",
    "y_pred_ridge = ridge.predict(test_inputs)\n",
    "mse = mean_squared_error(test_targets, y_pred_ridge)\n",
    "print(mse)"
   ]
  },
  {
   "cell_type": "code",
   "execution_count": null,
   "id": "6db78069",
   "metadata": {},
   "outputs": [],
   "source": [
    "# decision tree regressor"
   ]
  },
  {
   "cell_type": "code",
   "execution_count": 94,
   "id": "ddd32e8e",
   "metadata": {},
   "outputs": [
    {
     "data": {
      "text/plain": [
       "DecisionTreeRegressor(random_state=0)"
      ]
     },
     "execution_count": 94,
     "metadata": {},
     "output_type": "execute_result"
    }
   ],
   "source": [
    "from sklearn.tree import DecisionTreeRegressor \n",
    "  \n",
    "# create a regressor object\n",
    "regressor = DecisionTreeRegressor(random_state = 0) \n",
    "  \n",
    "# fit the regressor with X and Y data\n",
    "regressor.fit(train_inputs, train_targets)"
   ]
  },
  {
   "cell_type": "code",
   "execution_count": 96,
   "id": "c5c13013",
   "metadata": {},
   "outputs": [],
   "source": [
    "from sklearn.tree import export_graphviz \n",
    "  \n",
    "# export the decision tree to a tree.dot file\n",
    "# for visualizing the plot easily anywhere\n",
    "export_graphviz(regressor, out_file ='tree.dot')"
   ]
  },
  {
   "cell_type": "code",
   "execution_count": 98,
   "id": "4f2e3727",
   "metadata": {},
   "outputs": [],
   "source": [
    "y_1 = regressor.predict(test_inputs)"
   ]
  },
  {
   "cell_type": "code",
   "execution_count": 103,
   "id": "33d1020d",
   "metadata": {},
   "outputs": [
    {
     "data": {
      "text/plain": [
       "array([ 552.,  448., 1356., ...,  850.,  895., 1380.])"
      ]
     },
     "execution_count": 103,
     "metadata": {},
     "output_type": "execute_result"
    }
   ],
   "source": [
    "y_1"
   ]
  },
  {
   "cell_type": "code",
   "execution_count": null,
   "id": "6fd1810d",
   "metadata": {},
   "outputs": [],
   "source": [
    "#evaluation metrics"
   ]
  },
  {
   "cell_type": "code",
   "execution_count": 105,
   "id": "3a839386",
   "metadata": {},
   "outputs": [
    {
     "data": {
      "text/plain": [
       "3068.1656602840103"
      ]
     },
     "execution_count": 105,
     "metadata": {},
     "output_type": "execute_result"
    }
   ],
   "source": [
    "from sklearn.metrics import mean_squared_error\n",
    "mean_squared_error(model.predict(x_train),train_targets,squared=False)"
   ]
  },
  {
   "cell_type": "code",
   "execution_count": null,
   "id": "a79c1810",
   "metadata": {},
   "outputs": [],
   "source": []
  }
 ],
 "metadata": {
  "kernelspec": {
   "display_name": "Python 3",
   "language": "python",
   "name": "python3"
  },
  "language_info": {
   "codemirror_mode": {
    "name": "ipython",
    "version": 3
   },
   "file_extension": ".py",
   "mimetype": "text/x-python",
   "name": "python",
   "nbconvert_exporter": "python",
   "pygments_lexer": "ipython3",
   "version": "3.8.8"
  }
 },
 "nbformat": 4,
 "nbformat_minor": 5
}
